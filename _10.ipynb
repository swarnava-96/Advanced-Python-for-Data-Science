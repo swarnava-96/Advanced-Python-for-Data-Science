{
  "nbformat": 4,
  "nbformat_minor": 0,
  "metadata": {
    "colab": {
      "name": "_10",
      "provenance": [],
      "authorship_tag": "ABX9TyObuIEVG1geB0qlKQybphpH",
      "include_colab_link": true
    },
    "kernelspec": {
      "name": "python3",
      "display_name": "Python 3"
    },
    "language_info": {
      "name": "python"
    }
  },
  "cells": [
    {
      "cell_type": "markdown",
      "metadata": {
        "id": "view-in-github",
        "colab_type": "text"
      },
      "source": [
        "<a href=\"https://colab.research.google.com/github/swarnava-96/Advanced-Python-for-Data-Science/blob/main/_10.ipynb\" target=\"_parent\"><img src=\"https://colab.research.google.com/assets/colab-badge.svg\" alt=\"Open In Colab\"/></a>"
      ]
    },
    {
      "cell_type": "markdown",
      "metadata": {
        "id": "qzHnu7OwUSP3"
      },
      "source": [
        "# **Static method**\n",
        "\n",
        "* Static method gets initialized as soon as the class is loaded.\n",
        "* We cannot make a copy of static method.\n",
        "* We do not provide any parameter inside static method.\n",
        "* Static methods are very fast."
      ]
    },
    {
      "cell_type": "code",
      "metadata": {
        "id": "O_xW_pkyUg-1"
      },
      "source": [
        "import datetime\n",
        "now = datetime.datetime.now()"
      ],
      "execution_count": 1,
      "outputs": []
    },
    {
      "cell_type": "code",
      "metadata": {
        "colab": {
          "base_uri": "https://localhost:8080/"
        },
        "id": "ZzOQ9wK6WNNj",
        "outputId": "0c1296cd-799a-4aef-b369-7806c9b7a1ca"
      },
      "source": [
        "now.year"
      ],
      "execution_count": 3,
      "outputs": [
        {
          "output_type": "execute_result",
          "data": {
            "text/plain": [
              "2021"
            ]
          },
          "metadata": {
            "tags": []
          },
          "execution_count": 3
        }
      ]
    },
    {
      "cell_type": "code",
      "metadata": {
        "id": "ic3Fo0mcUpWj"
      },
      "source": [
        "class car:\n",
        "  base_price = 1000000 #Class variables\n",
        "  def __init__(self, doors, windows, power):\n",
        "    self.doors = doors\n",
        "    self.windows = windows\n",
        "    self.power = power\n",
        "  def what_base_price(self):\n",
        "    print(\"The base price is\".format(self.base_price))\n",
        "\n",
        "  @classmethod\n",
        "  def revise_base_price(cls, inflation):\n",
        "    cls.base_price = cls.base_price + cls.base_price * inflation\n",
        "\n",
        "  @staticmethod\n",
        "  def check_year():\n",
        "    if now.year == 2021:\n",
        "      return True\n",
        "    else:\n",
        "      return False\n"
      ],
      "execution_count": 4,
      "outputs": []
    },
    {
      "cell_type": "code",
      "metadata": {
        "colab": {
          "base_uri": "https://localhost:8080/"
        },
        "id": "TAmjmVZKWtCk",
        "outputId": "228ead16-f2b4-4298-9184-edd06ed9627b"
      },
      "source": [
        "car.check_year()"
      ],
      "execution_count": 6,
      "outputs": [
        {
          "output_type": "execute_result",
          "data": {
            "text/plain": [
              "True"
            ]
          },
          "metadata": {
            "tags": []
          },
          "execution_count": 6
        }
      ]
    },
    {
      "cell_type": "code",
      "metadata": {
        "colab": {
          "base_uri": "https://localhost:8080/"
        },
        "id": "NTcaGJpfWxGq",
        "outputId": "481c30ad-1bd1-4540-aca8-287a7d8ae4f9"
      },
      "source": [
        "# Lets initialize an object\n",
        "\n",
        "car1 = car(4, 4, 2000)\n",
        "car1.check_year()"
      ],
      "execution_count": 8,
      "outputs": [
        {
          "output_type": "execute_result",
          "data": {
            "text/plain": [
              "True"
            ]
          },
          "metadata": {
            "tags": []
          },
          "execution_count": 8
        }
      ]
    },
    {
      "cell_type": "code",
      "metadata": {
        "id": "8heuj2KeXJkD"
      },
      "source": [
        "# Lets create a condition: if year is 2021 we will not call the class method, else we will \n",
        "\n",
        "if (car1.check_year()):\n",
        "  pass\n",
        "else:\n",
        "  car.revise_base_price()"
      ],
      "execution_count": 9,
      "outputs": []
    },
    {
      "cell_type": "code",
      "metadata": {
        "colab": {
          "base_uri": "https://localhost:8080/"
        },
        "id": "v8hAOteWX7ZK",
        "outputId": "820758bf-40dc-4b42-abe0-a373ef755f18"
      },
      "source": [
        "car1.base_price"
      ],
      "execution_count": 10,
      "outputs": [
        {
          "output_type": "execute_result",
          "data": {
            "text/plain": [
              "1000000"
            ]
          },
          "metadata": {
            "tags": []
          },
          "execution_count": 10
        }
      ]
    }
  ]
}