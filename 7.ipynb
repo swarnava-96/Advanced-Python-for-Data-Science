{
  "nbformat": 4,
  "nbformat_minor": 0,
  "metadata": {
    "colab": {
      "name": "7",
      "provenance": [],
      "authorship_tag": "ABX9TyNFi8Kif9UECSkg1GkWZCbP",
      "include_colab_link": true
    },
    "kernelspec": {
      "name": "python3",
      "display_name": "Python 3"
    },
    "language_info": {
      "name": "python"
    }
  },
  "cells": [
    {
      "cell_type": "markdown",
      "metadata": {
        "id": "view-in-github",
        "colab_type": "text"
      },
      "source": [
        "<a href=\"https://colab.research.google.com/github/swarnava-96/Advanced-Python-for-Data-Science/blob/main/7.ipynb\" target=\"_parent\"><img src=\"https://colab.research.google.com/assets/colab-badge.svg\" alt=\"Open In Colab\"/></a>"
      ]
    },
    {
      "cell_type": "markdown",
      "metadata": {
        "id": "mRiujC8QDrED"
      },
      "source": [
        "# **Decorators**\n",
        "\n",
        "* Function copy\n",
        "* Closures\n",
        "* Decorators"
      ]
    },
    {
      "cell_type": "markdown",
      "metadata": {
        "id": "J5k0JKk5D5E_"
      },
      "source": [
        "### Function copy"
      ]
    },
    {
      "cell_type": "code",
      "metadata": {
        "id": "qOGx7hUED7so"
      },
      "source": [
        "# Defining a funcion\n",
        "\n",
        "def welcome():\n",
        "  return \"Welcome to Kolkata\""
      ],
      "execution_count": 3,
      "outputs": []
    },
    {
      "cell_type": "code",
      "metadata": {
        "colab": {
          "base_uri": "https://localhost:8080/",
          "height": 35
        },
        "id": "OSxIi0v4EHKZ",
        "outputId": "ff850d1e-7fbd-443a-c4c6-8ca3e061c9d5"
      },
      "source": [
        "welcome()"
      ],
      "execution_count": 4,
      "outputs": [
        {
          "output_type": "execute_result",
          "data": {
            "application/vnd.google.colaboratory.intrinsic+json": {
              "type": "string"
            },
            "text/plain": [
              "'Welcome to Kolkata'"
            ]
          },
          "metadata": {
            "tags": []
          },
          "execution_count": 4
        }
      ]
    },
    {
      "cell_type": "code",
      "metadata": {
        "colab": {
          "base_uri": "https://localhost:8080/",
          "height": 35
        },
        "id": "sDxwwhZQEMBl",
        "outputId": "e74f2821-136b-4167-defb-4d69da56321c"
      },
      "source": [
        "# Function Copy\n",
        "\n",
        "wel = welcome()\n",
        "wel"
      ],
      "execution_count": 5,
      "outputs": [
        {
          "output_type": "execute_result",
          "data": {
            "application/vnd.google.colaboratory.intrinsic+json": {
              "type": "string"
            },
            "text/plain": [
              "'Welcome to Kolkata'"
            ]
          },
          "metadata": {
            "tags": []
          },
          "execution_count": 5
        }
      ]
    },
    {
      "cell_type": "code",
      "metadata": {
        "colab": {
          "base_uri": "https://localhost:8080/",
          "height": 35
        },
        "id": "RUcuV1AEEwxm",
        "outputId": "df5b13d5-5490-4f82-da7d-e779aab59b1e"
      },
      "source": [
        "# Now lets delete the welcome function\n",
        "del welcome\n",
        "\n",
        "# Lets check the well function\n",
        "wel"
      ],
      "execution_count": 7,
      "outputs": [
        {
          "output_type": "execute_result",
          "data": {
            "application/vnd.google.colaboratory.intrinsic+json": {
              "type": "string"
            },
            "text/plain": [
              "'Welcome to Kolkata'"
            ]
          },
          "metadata": {
            "tags": []
          },
          "execution_count": 7
        }
      ]
    },
    {
      "cell_type": "code",
      "metadata": {
        "colab": {
          "base_uri": "https://localhost:8080/",
          "height": 180
        },
        "id": "2wNkCEO9FGTk",
        "outputId": "78e70b2f-e3cc-4312-cd86-20e2c551f976"
      },
      "source": [
        "# If we try to call the welcome function again, we will get an error!\n",
        "welcome()"
      ],
      "execution_count": 8,
      "outputs": [
        {
          "output_type": "error",
          "ename": "NameError",
          "evalue": "ignored",
          "traceback": [
            "\u001b[0;31m---------------------------------------------------------------------------\u001b[0m",
            "\u001b[0;31mNameError\u001b[0m                                 Traceback (most recent call last)",
            "\u001b[0;32m<ipython-input-8-dd7d55a3b7a7>\u001b[0m in \u001b[0;36m<module>\u001b[0;34m()\u001b[0m\n\u001b[1;32m      1\u001b[0m \u001b[0;31m# If we try to call the welcome function again, we will get an error!\u001b[0m\u001b[0;34m\u001b[0m\u001b[0;34m\u001b[0m\u001b[0;34m\u001b[0m\u001b[0m\n\u001b[0;32m----> 2\u001b[0;31m \u001b[0mwelcome\u001b[0m\u001b[0;34m(\u001b[0m\u001b[0;34m)\u001b[0m\u001b[0;34m\u001b[0m\u001b[0;34m\u001b[0m\u001b[0m\n\u001b[0m",
            "\u001b[0;31mNameError\u001b[0m: name 'welcome' is not defined"
          ]
        }
      ]
    },
    {
      "cell_type": "markdown",
      "metadata": {
        "id": "v0AAf2r_FhfD"
      },
      "source": [
        "### Closures \n",
        "\n",
        "Fuction within a function"
      ]
    },
    {
      "cell_type": "code",
      "metadata": {
        "id": "lfuuO_0eFlqG"
      },
      "source": [
        "def main_welcome():\n",
        "  msg = \"Hello Everyone\"\n",
        "  def sub_welcome_class():\n",
        "    print(\"Welcome to Kolkata\")\n",
        "    print(msg)\n",
        "    print(\"Hope you all enjoy!\")\n",
        "  return sub_welcome_class()"
      ],
      "execution_count": 11,
      "outputs": []
    },
    {
      "cell_type": "code",
      "metadata": {
        "colab": {
          "base_uri": "https://localhost:8080/"
        },
        "id": "ZKSxVpQ7GQlL",
        "outputId": "f2c57249-6c0a-40cb-a931-5996feaea7f9"
      },
      "source": [
        "# Lets call our main function\n",
        "\n",
        "main_welcome()"
      ],
      "execution_count": 12,
      "outputs": [
        {
          "output_type": "stream",
          "text": [
            "Welcome to Kolkata\n",
            "Hello Everyone\n",
            "Hope you all enjoy!\n"
          ],
          "name": "stdout"
        }
      ]
    },
    {
      "cell_type": "code",
      "metadata": {
        "id": "88de0-rFGWd0"
      },
      "source": [
        "def main_welcome(msg):\n",
        "  \n",
        "  def sub_welcome_class():\n",
        "    print(\"Welcome to Kolkata\")\n",
        "    print(msg)\n",
        "    print(\"Hope you all enjoy!\")\n",
        "  return sub_welcome_class()"
      ],
      "execution_count": 13,
      "outputs": []
    },
    {
      "cell_type": "code",
      "metadata": {
        "colab": {
          "base_uri": "https://localhost:8080/"
        },
        "id": "xYP7x2p1GvJJ",
        "outputId": "9a416025-9d1f-4be9-828a-520f7b48bb94"
      },
      "source": [
        "main_welcome(\"Everyone\")"
      ],
      "execution_count": 14,
      "outputs": [
        {
          "output_type": "stream",
          "text": [
            "Welcome to Kolkata\n",
            "Everyone\n",
            "Hope you all enjoy!\n"
          ],
          "name": "stdout"
        }
      ]
    },
    {
      "cell_type": "markdown",
      "metadata": {
        "id": "2zMKb5moKiO8"
      },
      "source": [
        "### Closure and Initial Decorator\n",
        "Here we are calling an inbuilt function inside our main function. Decorators means calling a function inside a function where we can also give a function as a parameter.\n"
      ]
    },
    {
      "cell_type": "code",
      "metadata": {
        "id": "vGY73SDwGyxr"
      },
      "source": [
        "def main_welcome(func):\n",
        "  \n",
        "  def sub_welcome_class():\n",
        "    print(\"Welcome to Kolkata\")\n",
        "    print(func)\n",
        "    print(\"Hope you all enjoy!\")\n",
        "  return sub_welcome_class()"
      ],
      "execution_count": 15,
      "outputs": []
    },
    {
      "cell_type": "code",
      "metadata": {
        "colab": {
          "base_uri": "https://localhost:8080/"
        },
        "id": "z-vReXVtJKWV",
        "outputId": "46232003-9fb6-484e-a9c0-7888f9885558"
      },
      "source": [
        "main_welcome(print)"
      ],
      "execution_count": 16,
      "outputs": [
        {
          "output_type": "stream",
          "text": [
            "Welcome to Kolkata\n",
            "<built-in function print>\n",
            "Hope you all enjoy!\n"
          ],
          "name": "stdout"
        }
      ]
    },
    {
      "cell_type": "code",
      "metadata": {
        "id": "kipqIrcyJMvc"
      },
      "source": [
        "def main_welcome(func):\n",
        "  \n",
        "  def sub_welcome_class():\n",
        "    print(\"Welcome to Kolkata\")\n",
        "    func(\"Dont forget to visit Victoria!\")\n",
        "\n",
        "    print(\"Hope you all enjoy!\")\n",
        "  return sub_welcome_class()"
      ],
      "execution_count": 17,
      "outputs": []
    },
    {
      "cell_type": "code",
      "metadata": {
        "colab": {
          "base_uri": "https://localhost:8080/"
        },
        "id": "2C2YAUlSJ4sq",
        "outputId": "832ece61-23e0-4a61-f065-9592aa26e19e"
      },
      "source": [
        "main_welcome(print)"
      ],
      "execution_count": 19,
      "outputs": [
        {
          "output_type": "stream",
          "text": [
            "Welcome to Kolkata\n",
            "Dont forget to visit Victoria!\n",
            "Hope you all enjoy!\n"
          ],
          "name": "stdout"
        }
      ]
    },
    {
      "cell_type": "code",
      "metadata": {
        "id": "BhJa3gFVJ7Nq"
      },
      "source": [
        "# Lets try with the len function\n",
        "\n",
        "def main_welcome(func):\n",
        "  \n",
        "  def sub_welcome_class():\n",
        "    print(\"Welcome to Kolkata\")\n",
        "    print(func(\"Dont forget to visit Victoria!\"))\n",
        "\n",
        "    print(\"Hope you all enjoy!\")\n",
        "  return sub_welcome_class()"
      ],
      "execution_count": 21,
      "outputs": []
    },
    {
      "cell_type": "code",
      "metadata": {
        "colab": {
          "base_uri": "https://localhost:8080/"
        },
        "id": "8tWKFE6CLGsP",
        "outputId": "80f452c2-7f8f-44a9-d54e-b7dbab28a011"
      },
      "source": [
        "main_welcome(len)"
      ],
      "execution_count": 22,
      "outputs": [
        {
          "output_type": "stream",
          "text": [
            "Welcome to Kolkata\n",
            "30\n",
            "Hope you all enjoy!\n"
          ],
          "name": "stdout"
        }
      ]
    },
    {
      "cell_type": "markdown",
      "metadata": {
        "id": "SUiHZckIMRNW"
      },
      "source": [
        "### Decorators"
      ]
    },
    {
      "cell_type": "code",
      "metadata": {
        "id": "UVI1pSrqMRph"
      },
      "source": [
        "# Lets try with our own custom function\n",
        "\n",
        "def main_welcome(func):\n",
        "  \n",
        "  def sub_welcome_class():\n",
        "    print(\"Welcome to Kolkata\")\n",
        "    func()\n",
        "\n",
        "    print(\"Hope you all enjoy!\")\n",
        "  return sub_welcome_class()"
      ],
      "execution_count": 24,
      "outputs": []
    },
    {
      "cell_type": "code",
      "metadata": {
        "id": "Z_nycTpnLZ0W"
      },
      "source": [
        "# lets create our own custom function\n",
        "\n",
        "def food():\n",
        "  print(\"You must try Kolkata Biryani\")"
      ],
      "execution_count": 23,
      "outputs": []
    },
    {
      "cell_type": "code",
      "metadata": {
        "colab": {
          "base_uri": "https://localhost:8080/"
        },
        "id": "7HDvgjb5MKpd",
        "outputId": "e1785e3d-0e03-4fef-cb8d-bac5f734cacf"
      },
      "source": [
        "# Lets call our main function\n",
        "\n",
        "main_welcome(food)"
      ],
      "execution_count": 26,
      "outputs": [
        {
          "output_type": "stream",
          "text": [
            "Welcome to Kolkata\n",
            "You must try Kolkata Biryani\n",
            "Hope you all enjoy!\n"
          ],
          "name": "stdout"
        }
      ]
    },
    {
      "cell_type": "code",
      "metadata": {
        "colab": {
          "base_uri": "https://localhost:8080/"
        },
        "id": "77z4MdZCMz8l",
        "outputId": "30c7611e-54eb-4035-bc47-f3d9fc97efab"
      },
      "source": [
        "# Another way of defining a decorator\n",
        "\n",
        "@main_welcome\n",
        "def food():\n",
        "  print(\"You must try Kolkata Biryani\")"
      ],
      "execution_count": 27,
      "outputs": [
        {
          "output_type": "stream",
          "text": [
            "Welcome to Kolkata\n",
            "You must try Kolkata Biryani\n",
            "Hope you all enjoy!\n"
          ],
          "name": "stdout"
        }
      ]
    }
  ]
}