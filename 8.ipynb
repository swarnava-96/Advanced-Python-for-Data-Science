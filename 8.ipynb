{
  "nbformat": 4,
  "nbformat_minor": 0,
  "metadata": {
    "colab": {
      "name": "8",
      "provenance": [],
      "authorship_tag": "ABX9TyOIoZxBwCYxl0jEu+Bbc1ct",
      "include_colab_link": true
    },
    "kernelspec": {
      "name": "python3",
      "display_name": "Python 3"
    },
    "language_info": {
      "name": "python"
    }
  },
  "cells": [
    {
      "cell_type": "markdown",
      "metadata": {
        "id": "view-in-github",
        "colab_type": "text"
      },
      "source": [
        "<a href=\"https://colab.research.google.com/github/swarnava-96/Advanced-Python-for-Data-Science/blob/main/8.ipynb\" target=\"_parent\"><img src=\"https://colab.research.google.com/assets/colab-badge.svg\" alt=\"Open In Colab\"/></a>"
      ]
    },
    {
      "cell_type": "markdown",
      "metadata": {
        "id": "Gg-AERFbgp-U"
      },
      "source": [
        "# **is VS ==**"
      ]
    },
    {
      "cell_type": "code",
      "metadata": {
        "id": "yrr-NmMPgvF9"
      },
      "source": [
        "list1 = [\"swarnava1\", \"swarnava2\", \"swarnava1\"]\n",
        "list2 = [\"swarnava1\", \"swarnava2\", \"swarnava1\"]"
      ],
      "execution_count": 2,
      "outputs": []
    },
    {
      "cell_type": "code",
      "metadata": {
        "colab": {
          "base_uri": "https://localhost:8080/"
        },
        "id": "YyGSdCSHg5lH",
        "outputId": "e062daa1-df2e-458d-f2e5-9c2617b8aaa1"
      },
      "source": [
        "# Checking with ==\n",
        "list1 == list2"
      ],
      "execution_count": 3,
      "outputs": [
        {
          "output_type": "execute_result",
          "data": {
            "text/plain": [
              "True"
            ]
          },
          "metadata": {
            "tags": []
          },
          "execution_count": 3
        }
      ]
    },
    {
      "cell_type": "code",
      "metadata": {
        "colab": {
          "base_uri": "https://localhost:8080/"
        },
        "id": "S_tSPbkahCIX",
        "outputId": "33e52ab7-68ad-4a89-8236-a35f9a3bed1a"
      },
      "source": [
        "# Chacking with 'is'\n",
        "list1 is list2"
      ],
      "execution_count": 4,
      "outputs": [
        {
          "output_type": "execute_result",
          "data": {
            "text/plain": [
              "False"
            ]
          },
          "metadata": {
            "tags": []
          },
          "execution_count": 4
        }
      ]
    },
    {
      "cell_type": "code",
      "metadata": {
        "id": "4fnyl1mbhc_Z"
      },
      "source": [
        "# Now lets see another case\n",
        "\n",
        "list3 = [\"Swarnava\", \"Swarnava1\", \"Swarnava2\"]\n",
        "list4 = list3"
      ],
      "execution_count": 10,
      "outputs": []
    },
    {
      "cell_type": "code",
      "metadata": {
        "colab": {
          "base_uri": "https://localhost:8080/"
        },
        "id": "71MDA_GFhy1s",
        "outputId": "c814b215-d0e7-4119-9ae7-1c7052f8649e"
      },
      "source": [
        "list3 is list4"
      ],
      "execution_count": 11,
      "outputs": [
        {
          "output_type": "execute_result",
          "data": {
            "text/plain": [
              "True"
            ]
          },
          "metadata": {
            "tags": []
          },
          "execution_count": 11
        }
      ]
    },
    {
      "cell_type": "code",
      "metadata": {
        "colab": {
          "base_uri": "https://localhost:8080/"
        },
        "id": "0ozhiairh1Kh",
        "outputId": "c6888563-0bfa-4f6f-d0e3-b98c5ceaa40d"
      },
      "source": [
        "list4 is list3"
      ],
      "execution_count": 12,
      "outputs": [
        {
          "output_type": "execute_result",
          "data": {
            "text/plain": [
              "True"
            ]
          },
          "metadata": {
            "tags": []
          },
          "execution_count": 12
        }
      ]
    },
    {
      "cell_type": "markdown",
      "metadata": {
        "id": "hd10JJYfiGW3"
      },
      "source": [
        "Here both list3 and list4 are referencing the same memory location hence, True."
      ]
    },
    {
      "cell_type": "markdown",
      "metadata": {
        "id": "qBx34ZB2jNXE"
      },
      "source": [
        "### Mutability"
      ]
    },
    {
      "cell_type": "code",
      "metadata": {
        "id": "V7vOUINZiQXh"
      },
      "source": [
        "list3[0] = \"Mukherjee\""
      ],
      "execution_count": 14,
      "outputs": []
    },
    {
      "cell_type": "code",
      "metadata": {
        "colab": {
          "base_uri": "https://localhost:8080/"
        },
        "id": "_OBTqZ9WjCJ9",
        "outputId": "c30d3a8b-1d71-4444-e8f0-7b1852ccb35d"
      },
      "source": [
        "list3"
      ],
      "execution_count": 16,
      "outputs": [
        {
          "output_type": "execute_result",
          "data": {
            "text/plain": [
              "['Mukherjee', 'Swarnava1', 'Swarnava2']"
            ]
          },
          "metadata": {
            "tags": []
          },
          "execution_count": 16
        }
      ]
    },
    {
      "cell_type": "code",
      "metadata": {
        "colab": {
          "base_uri": "https://localhost:8080/"
        },
        "id": "_EnmzGEwjGZS",
        "outputId": "9fb92871-cdb3-499b-9163-daf0f33e9889"
      },
      "source": [
        "list4"
      ],
      "execution_count": 17,
      "outputs": [
        {
          "output_type": "execute_result",
          "data": {
            "text/plain": [
              "['Mukherjee', 'Swarnava1', 'Swarnava2']"
            ]
          },
          "metadata": {
            "tags": []
          },
          "execution_count": 17
        }
      ]
    },
    {
      "cell_type": "markdown",
      "metadata": {
        "id": "sGXPh4y4jUpY"
      },
      "source": [
        "# **Shallow Copy vs Deep Copy**\n",
        "* =\n",
        "* .copy()\n",
        "* deepcopy()"
      ]
    },
    {
      "cell_type": "markdown",
      "metadata": {
        "id": "JSYmpYZUkfdg"
      },
      "source": [
        "### using \" = \""
      ]
    },
    {
      "cell_type": "code",
      "metadata": {
        "id": "5vt-XIeJjaBl"
      },
      "source": [
        "list1 = [1, 2, 3, 4]\n",
        "list2 = list1"
      ],
      "execution_count": 20,
      "outputs": []
    },
    {
      "cell_type": "code",
      "metadata": {
        "colab": {
          "base_uri": "https://localhost:8080/"
        },
        "id": "4xYRGN-zj4dn",
        "outputId": "83f547c9-7911-4eff-b57f-328e60718fe5"
      },
      "source": [
        "list2[1]"
      ],
      "execution_count": 21,
      "outputs": [
        {
          "output_type": "execute_result",
          "data": {
            "text/plain": [
              "2"
            ]
          },
          "metadata": {
            "tags": []
          },
          "execution_count": 21
        }
      ]
    },
    {
      "cell_type": "code",
      "metadata": {
        "id": "YPXlFECjj7Ft"
      },
      "source": [
        "list2[1] = 1000"
      ],
      "execution_count": 22,
      "outputs": []
    },
    {
      "cell_type": "code",
      "metadata": {
        "colab": {
          "base_uri": "https://localhost:8080/"
        },
        "id": "3-bbiOKZkDOC",
        "outputId": "868bdef9-4f27-4653-ccba-10c3c9e6ea89"
      },
      "source": [
        "list2"
      ],
      "execution_count": 23,
      "outputs": [
        {
          "output_type": "execute_result",
          "data": {
            "text/plain": [
              "[1, 1000, 3, 4]"
            ]
          },
          "metadata": {
            "tags": []
          },
          "execution_count": 23
        }
      ]
    },
    {
      "cell_type": "code",
      "metadata": {
        "colab": {
          "base_uri": "https://localhost:8080/"
        },
        "id": "WDIuatpckEBQ",
        "outputId": "05ad9862-2833-420c-9c3e-47d24fb67b46"
      },
      "source": [
        "list1"
      ],
      "execution_count": 24,
      "outputs": [
        {
          "output_type": "execute_result",
          "data": {
            "text/plain": [
              "[1, 1000, 3, 4]"
            ]
          },
          "metadata": {
            "tags": []
          },
          "execution_count": 24
        }
      ]
    },
    {
      "cell_type": "markdown",
      "metadata": {
        "id": "yfh6L2WSkK2e"
      },
      "source": [
        "Both the lists are referencing the same memory location."
      ]
    },
    {
      "cell_type": "markdown",
      "metadata": {
        "id": "wZ4P5_J8ksBj"
      },
      "source": [
        "### Shallow Copy"
      ]
    },
    {
      "cell_type": "code",
      "metadata": {
        "id": "apqlfMockspX"
      },
      "source": [
        "list1 = [1, 2, 3, 4]\n",
        "list2 = list1.copy()"
      ],
      "execution_count": 26,
      "outputs": []
    },
    {
      "cell_type": "code",
      "metadata": {
        "id": "kCIRc3BPk_SL"
      },
      "source": [
        "list1[1] = 1000"
      ],
      "execution_count": 28,
      "outputs": []
    },
    {
      "cell_type": "code",
      "metadata": {
        "colab": {
          "base_uri": "https://localhost:8080/"
        },
        "id": "igZ4E6n8lBNE",
        "outputId": "00ef4410-010c-459b-8851-93cf19a6656d"
      },
      "source": [
        "list1, list2"
      ],
      "execution_count": 29,
      "outputs": [
        {
          "output_type": "execute_result",
          "data": {
            "text/plain": [
              "([1, 1000, 3, 4], [1, 2, 3, 4])"
            ]
          },
          "metadata": {
            "tags": []
          },
          "execution_count": 29
        }
      ]
    },
    {
      "cell_type": "markdown",
      "metadata": {
        "id": "cGkMZiLAlHPJ"
      },
      "source": [
        "Here both are having different memory location."
      ]
    },
    {
      "cell_type": "code",
      "metadata": {
        "colab": {
          "base_uri": "https://localhost:8080/"
        },
        "id": "cTf2OKedlLkq",
        "outputId": "cf1536e5-9e43-4dcf-ef3a-2b00392dba21"
      },
      "source": [
        "# Lets use Shallow Copy in nested lists\n",
        "\n",
        "list1 = [[1, 2, 3, 4], [5, 6, 7, 8]]\n",
        "list2 = list1.copy()\n",
        "\n",
        "print(list1)\n",
        "print(list2)"
      ],
      "execution_count": 30,
      "outputs": [
        {
          "output_type": "stream",
          "text": [
            "[[1, 2, 3, 4], [5, 6, 7, 8]]\n",
            "[[1, 2, 3, 4], [5, 6, 7, 8]]\n"
          ],
          "name": "stdout"
        }
      ]
    },
    {
      "cell_type": "code",
      "metadata": {
        "id": "KbKIoZHbl8zY"
      },
      "source": [
        "# Lets alter the value of an object(not a item) in list1\n",
        "\n",
        "list1[1][0] = 1000"
      ],
      "execution_count": 32,
      "outputs": []
    },
    {
      "cell_type": "code",
      "metadata": {
        "colab": {
          "base_uri": "https://localhost:8080/"
        },
        "id": "pmWy6ap7mM7j",
        "outputId": "129b38f4-759c-44fb-ce5e-cb224620f02b"
      },
      "source": [
        "# lets check out our list1 and list2\n",
        "\n",
        "print(list1)\n",
        "print(list2)"
      ],
      "execution_count": 33,
      "outputs": [
        {
          "output_type": "stream",
          "text": [
            "[[1, 2, 3, 4], [1000, 6, 7, 8]]\n",
            "[[1, 2, 3, 4], [1000, 6, 7, 8]]\n"
          ],
          "name": "stdout"
        }
      ]
    },
    {
      "cell_type": "markdown",
      "metadata": {
        "id": "K3_mcv7smWuf"
      },
      "source": [
        "Here, we can see that Shallow Copy works only with list items and not with objects. Inside a Nested lists lists are considerd as items and the values within those lists are objects. Objects refer the same memory location."
      ]
    },
    {
      "cell_type": "code",
      "metadata": {
        "colab": {
          "base_uri": "https://localhost:8080/"
        },
        "id": "Wfrso_Z-mp-M",
        "outputId": "2b9916e8-44dc-4ba7-de33-f8981f953998"
      },
      "source": [
        "# Lets use append\n",
        "\n",
        "list1.append([1, 2, 3, 4])\n",
        "print(list1)\n",
        "print(list2)"
      ],
      "execution_count": 34,
      "outputs": [
        {
          "output_type": "stream",
          "text": [
            "[[1, 2, 3, 4], [1000, 6, 7, 8], [1, 2, 3, 4]]\n",
            "[[1, 2, 3, 4], [1000, 6, 7, 8]]\n"
          ],
          "name": "stdout"
        }
      ]
    },
    {
      "cell_type": "markdown",
      "metadata": {
        "id": "-SeZoCQ7nOcC"
      },
      "source": [
        "Here, we see that the list gets appended to list1 and not list 2 as these nested lists are considered as items and not objects."
      ]
    },
    {
      "cell_type": "markdown",
      "metadata": {
        "id": "GW44XxtYnpv6"
      },
      "source": [
        "### Deep Copy"
      ]
    },
    {
      "cell_type": "code",
      "metadata": {
        "id": "x17q4M5znrUD"
      },
      "source": [
        "import copy\n",
        "\n",
        "list1 = [1, 2, 3, 4]\n",
        "list2 = copy.deepcopy(list1)"
      ],
      "execution_count": 35,
      "outputs": []
    },
    {
      "cell_type": "code",
      "metadata": {
        "colab": {
          "base_uri": "https://localhost:8080/"
        },
        "id": "AeUmFRpKn6aF",
        "outputId": "6f9415a6-fee8-4c49-edc8-2920758a070c"
      },
      "source": [
        "print(list1)\n",
        "print(list2)"
      ],
      "execution_count": 36,
      "outputs": [
        {
          "output_type": "stream",
          "text": [
            "[1, 2, 3, 4]\n",
            "[1, 2, 3, 4]\n"
          ],
          "name": "stdout"
        }
      ]
    },
    {
      "cell_type": "code",
      "metadata": {
        "colab": {
          "base_uri": "https://localhost:8080/"
        },
        "id": "Ox5zOPA-n_I7",
        "outputId": "95ca6f6c-4019-4b0f-a054-29771dd39657"
      },
      "source": [
        "# Lets alter an element of list1 and check its impact on list2\n",
        "\n",
        "list1[0] = 1000\n",
        "\n",
        "print(list1)\n",
        "print(list2)"
      ],
      "execution_count": 37,
      "outputs": [
        {
          "output_type": "stream",
          "text": [
            "[1000, 2, 3, 4]\n",
            "[1, 2, 3, 4]\n"
          ],
          "name": "stdout"
        }
      ]
    },
    {
      "cell_type": "markdown",
      "metadata": {
        "id": "XNxhMxzEoSk-"
      },
      "source": [
        "For normal lists Shallow Copy = Deep Copy"
      ]
    },
    {
      "cell_type": "code",
      "metadata": {
        "colab": {
          "base_uri": "https://localhost:8080/"
        },
        "id": "8EeA67lHoYjK",
        "outputId": "d3950904-8c21-438c-8430-deb670df45af"
      },
      "source": [
        "# Lets see whether deep copy works with nested list or not\n",
        "\n",
        "list1 = [[1, 2, 3, 4], [1, 2, 3, 4]]\n",
        "list2 = copy.deepcopy(list1)\n",
        "\n",
        "print(list1)\n",
        "print(list2)"
      ],
      "execution_count": 38,
      "outputs": [
        {
          "output_type": "stream",
          "text": [
            "[[1, 2, 3, 4], [1, 2, 3, 4]]\n",
            "[[1, 2, 3, 4], [1, 2, 3, 4]]\n"
          ],
          "name": "stdout"
        }
      ]
    },
    {
      "cell_type": "code",
      "metadata": {
        "id": "hA9zEBexo3GN"
      },
      "source": [
        "# Lets alter an object within the nested list \n",
        "\n",
        "list1[0][1] = 100"
      ],
      "execution_count": 40,
      "outputs": []
    },
    {
      "cell_type": "code",
      "metadata": {
        "colab": {
          "base_uri": "https://localhost:8080/"
        },
        "id": "GDT2B3G-pANz",
        "outputId": "2a97e379-9c5b-4a03-eefe-79cda018b1f8"
      },
      "source": [
        "# Lets check our both lists\n",
        "\n",
        "print(list1)\n",
        "print(list2)\n"
      ],
      "execution_count": 41,
      "outputs": [
        {
          "output_type": "stream",
          "text": [
            "[[1, 100, 3, 4], [1, 2, 3, 4]]\n",
            "[[1, 2, 3, 4], [1, 2, 3, 4]]\n"
          ],
          "name": "stdout"
        }
      ]
    },
    {
      "cell_type": "markdown",
      "metadata": {
        "id": "ja7UC5iip7vE"
      },
      "source": [
        "Here, Shallow copy != Deep copy"
      ]
    }
  ]
}