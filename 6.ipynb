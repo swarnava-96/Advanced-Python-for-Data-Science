{
  "nbformat": 4,
  "nbformat_minor": 0,
  "metadata": {
    "colab": {
      "name": "6",
      "provenance": [],
      "authorship_tag": "ABX9TyMO1Kyp+SbHpncFQoNwc6/J",
      "include_colab_link": true
    },
    "kernelspec": {
      "name": "python3",
      "display_name": "Python 3"
    },
    "language_info": {
      "name": "python"
    }
  },
  "cells": [
    {
      "cell_type": "markdown",
      "metadata": {
        "id": "view-in-github",
        "colab_type": "text"
      },
      "source": [
        "<a href=\"https://colab.research.google.com/github/swarnava-96/Advanced-Python-for-Data-Science/blob/main/6.ipynb\" target=\"_parent\"><img src=\"https://colab.research.google.com/assets/colab-badge.svg\" alt=\"Open In Colab\"/></a>"
      ]
    },
    {
      "cell_type": "markdown",
      "metadata": {
        "id": "qIlVEQEO3a4G"
      },
      "source": [
        "# **Iterators vs Generators**"
      ]
    },
    {
      "cell_type": "markdown",
      "metadata": {
        "id": "L2BNLvo04lYU"
      },
      "source": [
        "### Iterables"
      ]
    },
    {
      "cell_type": "code",
      "metadata": {
        "colab": {
          "base_uri": "https://localhost:8080/"
        },
        "id": "bZBAolzZ3ho3",
        "outputId": "6ac2d6f7-1ca1-44ae-c080-522b41569dda"
      },
      "source": [
        "list = [1, 2, 3, 4, 5]\n",
        "for i in list:\n",
        "  print(i)"
      ],
      "execution_count": 1,
      "outputs": [
        {
          "output_type": "stream",
          "text": [
            "1\n",
            "2\n",
            "3\n",
            "4\n",
            "5\n"
          ],
          "name": "stdout"
        }
      ]
    },
    {
      "cell_type": "markdown",
      "metadata": {
        "id": "Dmq0TqBY4r6f"
      },
      "source": [
        "### Iterator"
      ]
    },
    {
      "cell_type": "code",
      "metadata": {
        "colab": {
          "base_uri": "https://localhost:8080/"
        },
        "id": "uZPGkjuG3ufx",
        "outputId": "ee04569f-004d-4a00-e402-8f1304dead5e"
      },
      "source": [
        "iter(list)"
      ],
      "execution_count": 16,
      "outputs": [
        {
          "output_type": "execute_result",
          "data": {
            "text/plain": [
              "<list_iterator at 0x7f3fc7077710>"
            ]
          },
          "metadata": {
            "tags": []
          },
          "execution_count": 16
        }
      ]
    },
    {
      "cell_type": "code",
      "metadata": {
        "id": "hsw59uF_35fN"
      },
      "source": [
        "iterator = iter(list)"
      ],
      "execution_count": 17,
      "outputs": []
    },
    {
      "cell_type": "code",
      "metadata": {
        "colab": {
          "base_uri": "https://localhost:8080/"
        },
        "id": "0tX_Lj-t4AEV",
        "outputId": "7e964048-9c07-41b0-e23f-3b847758e249"
      },
      "source": [
        "# First way of iterating through an iterator\n",
        "\n",
        "for i in iterator:\n",
        "  print(i)"
      ],
      "execution_count": 5,
      "outputs": [
        {
          "output_type": "stream",
          "text": [
            "1\n",
            "2\n",
            "3\n",
            "4\n",
            "5\n"
          ],
          "name": "stdout"
        }
      ]
    },
    {
      "cell_type": "code",
      "metadata": {
        "colab": {
          "base_uri": "https://localhost:8080/"
        },
        "id": "JSkJJs5P4Od5",
        "outputId": "9adcff52-fd54-4346-dc2c-f0f8fe924c3e"
      },
      "source": [
        "type(iterator)"
      ],
      "execution_count": 6,
      "outputs": [
        {
          "output_type": "execute_result",
          "data": {
            "text/plain": [
              "list_iterator"
            ]
          },
          "metadata": {
            "tags": []
          },
          "execution_count": 6
        }
      ]
    },
    {
      "cell_type": "code",
      "metadata": {
        "colab": {
          "base_uri": "https://localhost:8080/"
        },
        "id": "9vFdHxjB4e7p",
        "outputId": "4e4e2e87-b4a5-4c91-f14f-da69c2f5eef2"
      },
      "source": [
        "# Second way of iterating through an iterator\n",
        "\n",
        "next(iterator)"
      ],
      "execution_count": 10,
      "outputs": [
        {
          "output_type": "execute_result",
          "data": {
            "text/plain": [
              "1"
            ]
          },
          "metadata": {
            "tags": []
          },
          "execution_count": 10
        }
      ]
    },
    {
      "cell_type": "code",
      "metadata": {
        "colab": {
          "base_uri": "https://localhost:8080/"
        },
        "id": "J2RNxpKv5CG2",
        "outputId": "96d73613-5d55-4a65-a7fb-6676eb2c63c3"
      },
      "source": [
        "next(iterator)"
      ],
      "execution_count": 11,
      "outputs": [
        {
          "output_type": "execute_result",
          "data": {
            "text/plain": [
              "2"
            ]
          },
          "metadata": {
            "tags": []
          },
          "execution_count": 11
        }
      ]
    },
    {
      "cell_type": "code",
      "metadata": {
        "colab": {
          "base_uri": "https://localhost:8080/"
        },
        "id": "j55dvjLw5Nn_",
        "outputId": "edeee9d8-b411-45b4-d2f7-03ad01d987e5"
      },
      "source": [
        "next(iterator)"
      ],
      "execution_count": 12,
      "outputs": [
        {
          "output_type": "execute_result",
          "data": {
            "text/plain": [
              "3"
            ]
          },
          "metadata": {
            "tags": []
          },
          "execution_count": 12
        }
      ]
    },
    {
      "cell_type": "code",
      "metadata": {
        "colab": {
          "base_uri": "https://localhost:8080/"
        },
        "id": "4ytHfiBJ5Pdq",
        "outputId": "76e4ade0-d470-4212-dc30-28c7230f4a15"
      },
      "source": [
        "next(iterator)"
      ],
      "execution_count": 13,
      "outputs": [
        {
          "output_type": "execute_result",
          "data": {
            "text/plain": [
              "4"
            ]
          },
          "metadata": {
            "tags": []
          },
          "execution_count": 13
        }
      ]
    },
    {
      "cell_type": "code",
      "metadata": {
        "colab": {
          "base_uri": "https://localhost:8080/"
        },
        "id": "dgY9fma45Rji",
        "outputId": "0a1db8c0-fa45-4c32-cc3d-7db535ab3181"
      },
      "source": [
        "next(iterator)"
      ],
      "execution_count": 14,
      "outputs": [
        {
          "output_type": "execute_result",
          "data": {
            "text/plain": [
              "5"
            ]
          },
          "metadata": {
            "tags": []
          },
          "execution_count": 14
        }
      ]
    },
    {
      "cell_type": "code",
      "metadata": {
        "colab": {
          "base_uri": "https://localhost:8080/",
          "height": 163
        },
        "id": "snXpnl9H5TTE",
        "outputId": "7986928a-642e-4e12-cb52-ddafa4e78275"
      },
      "source": [
        "next(iterator)"
      ],
      "execution_count": 15,
      "outputs": [
        {
          "output_type": "error",
          "ename": "StopIteration",
          "evalue": "ignored",
          "traceback": [
            "\u001b[0;31m---------------------------------------------------------------------------\u001b[0m",
            "\u001b[0;31mStopIteration\u001b[0m                             Traceback (most recent call last)",
            "\u001b[0;32m<ipython-input-15-4ce711c44abc>\u001b[0m in \u001b[0;36m<module>\u001b[0;34m()\u001b[0m\n\u001b[0;32m----> 1\u001b[0;31m \u001b[0mnext\u001b[0m\u001b[0;34m(\u001b[0m\u001b[0miterator\u001b[0m\u001b[0;34m)\u001b[0m\u001b[0;34m\u001b[0m\u001b[0;34m\u001b[0m\u001b[0m\n\u001b[0m",
            "\u001b[0;31mStopIteration\u001b[0m: "
          ]
        }
      ]
    },
    {
      "cell_type": "code",
      "metadata": {
        "colab": {
          "base_uri": "https://localhost:8080/"
        },
        "id": "Ss4HxUvL5VWS",
        "outputId": "6f33963f-943e-47de-ae33-282bfffb5c11"
      },
      "source": [
        "# third way of iterating through an iterator\n",
        "\n",
        "try:\n",
        "  print(next(iterator))\n",
        "\n",
        "except StopIteration:\n",
        "  print(\"The iterator is empty\")"
      ],
      "execution_count": 23,
      "outputs": [
        {
          "output_type": "stream",
          "text": [
            "The iterator is empty\n"
          ],
          "name": "stdout"
        }
      ]
    },
    {
      "cell_type": "markdown",
      "metadata": {
        "id": "pTAX_cNP6Wyb"
      },
      "source": [
        "### Generator"
      ]
    },
    {
      "cell_type": "code",
      "metadata": {
        "id": "JfHAsV3P6acG"
      },
      "source": [
        "def square(n):\n",
        "  for i in range(n):\n",
        "    yield i**2"
      ],
      "execution_count": 25,
      "outputs": []
    },
    {
      "cell_type": "code",
      "metadata": {
        "colab": {
          "base_uri": "https://localhost:8080/"
        },
        "id": "ojXDXZAQ6pF2",
        "outputId": "3abe7c16-0099-4add-b49c-d052919ac7eb"
      },
      "source": [
        "square(3)"
      ],
      "execution_count": 26,
      "outputs": [
        {
          "output_type": "execute_result",
          "data": {
            "text/plain": [
              "<generator object square at 0x7f3fc6faa6d0>"
            ]
          },
          "metadata": {
            "tags": []
          },
          "execution_count": 26
        }
      ]
    },
    {
      "cell_type": "code",
      "metadata": {
        "colab": {
          "base_uri": "https://localhost:8080/"
        },
        "id": "PiXyy9hU7BkT",
        "outputId": "37b4735d-5f6a-4286-a0d1-830cd0385da5"
      },
      "source": [
        "# lets iterate through the generator\n",
        "\n",
        "for i in square(3):\n",
        "  print(i)"
      ],
      "execution_count": 28,
      "outputs": [
        {
          "output_type": "stream",
          "text": [
            "0\n",
            "1\n",
            "4\n"
          ],
          "name": "stdout"
        }
      ]
    },
    {
      "cell_type": "code",
      "metadata": {
        "id": "7jaTGl9M7Miu"
      },
      "source": [
        "# Lets assign this to a variable\n",
        "\n",
        "a = square(3)"
      ],
      "execution_count": 29,
      "outputs": []
    },
    {
      "cell_type": "code",
      "metadata": {
        "colab": {
          "base_uri": "https://localhost:8080/"
        },
        "id": "Exk657fz7g6u",
        "outputId": "dbc24d13-9662-4064-b6d7-881e0e1754c4"
      },
      "source": [
        "a"
      ],
      "execution_count": 30,
      "outputs": [
        {
          "output_type": "execute_result",
          "data": {
            "text/plain": [
              "<generator object square at 0x7f3fc6fadbd0>"
            ]
          },
          "metadata": {
            "tags": []
          },
          "execution_count": 30
        }
      ]
    },
    {
      "cell_type": "code",
      "metadata": {
        "colab": {
          "base_uri": "https://localhost:8080/"
        },
        "id": "qNjK2yDk7huq",
        "outputId": "349d685c-d06f-4496-f7ad-5c28e72df3f0"
      },
      "source": [
        "# Lets iterate through a\n",
        "\n",
        "next(a)"
      ],
      "execution_count": 31,
      "outputs": [
        {
          "output_type": "execute_result",
          "data": {
            "text/plain": [
              "0"
            ]
          },
          "metadata": {
            "tags": []
          },
          "execution_count": 31
        }
      ]
    },
    {
      "cell_type": "code",
      "metadata": {
        "colab": {
          "base_uri": "https://localhost:8080/"
        },
        "id": "uEBHKa4h7vAY",
        "outputId": "30d6674e-5aac-49ad-f30f-8629d09d7a25"
      },
      "source": [
        "next(a)"
      ],
      "execution_count": 32,
      "outputs": [
        {
          "output_type": "execute_result",
          "data": {
            "text/plain": [
              "1"
            ]
          },
          "metadata": {
            "tags": []
          },
          "execution_count": 32
        }
      ]
    },
    {
      "cell_type": "code",
      "metadata": {
        "colab": {
          "base_uri": "https://localhost:8080/"
        },
        "id": "qoRGQTpk7tdy",
        "outputId": "4df1fa0a-7edc-4507-fae1-0cfbf802fb2d"
      },
      "source": [
        "next(a)"
      ],
      "execution_count": 33,
      "outputs": [
        {
          "output_type": "execute_result",
          "data": {
            "text/plain": [
              "4"
            ]
          },
          "metadata": {
            "tags": []
          },
          "execution_count": 33
        }
      ]
    },
    {
      "cell_type": "code",
      "metadata": {
        "colab": {
          "base_uri": "https://localhost:8080/",
          "height": 163
        },
        "id": "pVKCSCbb7x-n",
        "outputId": "db9144d8-f2da-4053-dad3-edcb6fc373d3"
      },
      "source": [
        "# Hence we can say generator creates an iterator\n",
        "\n",
        "next(a)"
      ],
      "execution_count": 34,
      "outputs": [
        {
          "output_type": "error",
          "ename": "StopIteration",
          "evalue": "ignored",
          "traceback": [
            "\u001b[0;31m---------------------------------------------------------------------------\u001b[0m",
            "\u001b[0;31mStopIteration\u001b[0m                             Traceback (most recent call last)",
            "\u001b[0;32m<ipython-input-34-15841f3f11d4>\u001b[0m in \u001b[0;36m<module>\u001b[0;34m()\u001b[0m\n\u001b[0;32m----> 1\u001b[0;31m \u001b[0mnext\u001b[0m\u001b[0;34m(\u001b[0m\u001b[0ma\u001b[0m\u001b[0;34m)\u001b[0m\u001b[0;34m\u001b[0m\u001b[0;34m\u001b[0m\u001b[0m\n\u001b[0m",
            "\u001b[0;31mStopIteration\u001b[0m: "
          ]
        }
      ]
    },
    {
      "cell_type": "markdown",
      "metadata": {
        "id": "1KY_F0P77_Np"
      },
      "source": [
        "#### Difference between Iterator and Generator\n",
        "\n",
        "* To create an iterator we use iter function and to create a generator we use function along with yield keyword.\n",
        "* Generator uses the yield keyword. It saves the local variable values.\n",
        "* Generator helps us to write fast and compact code.\n",
        "* Iterators are much more memory efficient."
      ]
    },
    {
      "cell_type": "markdown",
      "metadata": {
        "id": "E1v6DP-x9Yz_"
      },
      "source": [
        "### Generator is an iterator --> Proof"
      ]
    },
    {
      "cell_type": "code",
      "metadata": {
        "id": "nRMyAldI9eJF"
      },
      "source": [
        "import types, collections"
      ],
      "execution_count": 35,
      "outputs": []
    },
    {
      "cell_type": "code",
      "metadata": {
        "colab": {
          "base_uri": "https://localhost:8080/"
        },
        "id": "Pm42eKlZ9jbZ",
        "outputId": "ca41d993-6efc-4c41-ed43-853ecddc01ba"
      },
      "source": [
        "issubclass(types.GeneratorType, collections.Iterator)"
      ],
      "execution_count": 37,
      "outputs": [
        {
          "output_type": "execute_result",
          "data": {
            "text/plain": [
              "True"
            ]
          },
          "metadata": {
            "tags": []
          },
          "execution_count": 37
        }
      ]
    }
  ]
}