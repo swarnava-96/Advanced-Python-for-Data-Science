{
  "nbformat": 4,
  "nbformat_minor": 0,
  "metadata": {
    "colab": {
      "name": "3",
      "provenance": [],
      "authorship_tag": "ABX9TyMnAD3STmP0/pOwjAaZ/U/J",
      "include_colab_link": true
    },
    "kernelspec": {
      "name": "python3",
      "display_name": "Python 3"
    },
    "language_info": {
      "name": "python"
    }
  },
  "cells": [
    {
      "cell_type": "markdown",
      "metadata": {
        "id": "view-in-github",
        "colab_type": "text"
      },
      "source": [
        "<a href=\"https://colab.research.google.com/github/swarnava-96/Advanced-Python-for-Data-Science/blob/main/3.ipynb\" target=\"_parent\"><img src=\"https://colab.research.google.com/assets/colab-badge.svg\" alt=\"Open In Colab\"/></a>"
      ]
    },
    {
      "cell_type": "markdown",
      "metadata": {
        "id": "rbMmbdGSdR0b"
      },
      "source": [
        "# **Inheritence**"
      ]
    },
    {
      "cell_type": "code",
      "metadata": {
        "id": "ihYySmtafTbV"
      },
      "source": [
        "# All the class variables are public\n",
        "\n",
        "class car():\n",
        "  def __init__(self, windows, doors, enginetype):\n",
        "    self.windows = windows\n",
        "    self.doors = doors\n",
        "    self.enginetype = enginetype\n",
        "  def drive(self):\n",
        "    print(\"The person drives the car\")"
      ],
      "execution_count": 6,
      "outputs": []
    },
    {
      "cell_type": "code",
      "metadata": {
        "id": "1j63qtCTgV91"
      },
      "source": [
        "# Creating a car object\n",
        "\n",
        "car1 = car(4, 4, \"Disel\")"
      ],
      "execution_count": 8,
      "outputs": []
    },
    {
      "cell_type": "code",
      "metadata": {
        "colab": {
          "base_uri": "https://localhost:8080/"
        },
        "id": "bYiHcrFijY34",
        "outputId": "5ac00bda-6e04-4451-ae8c-9169738182bb"
      },
      "source": [
        "# Checking the dir\n",
        "\n",
        "dir(car1)"
      ],
      "execution_count": 12,
      "outputs": [
        {
          "output_type": "execute_result",
          "data": {
            "text/plain": [
              "['__class__',\n",
              " '__delattr__',\n",
              " '__dict__',\n",
              " '__dir__',\n",
              " '__doc__',\n",
              " '__eq__',\n",
              " '__format__',\n",
              " '__ge__',\n",
              " '__getattribute__',\n",
              " '__gt__',\n",
              " '__hash__',\n",
              " '__init__',\n",
              " '__init_subclass__',\n",
              " '__le__',\n",
              " '__lt__',\n",
              " '__module__',\n",
              " '__ne__',\n",
              " '__new__',\n",
              " '__reduce__',\n",
              " '__reduce_ex__',\n",
              " '__repr__',\n",
              " '__setattr__',\n",
              " '__sizeof__',\n",
              " '__str__',\n",
              " '__subclasshook__',\n",
              " '__weakref__',\n",
              " 'doors',\n",
              " 'drive',\n",
              " 'enginetype',\n",
              " 'windows']"
            ]
          },
          "metadata": {
            "tags": []
          },
          "execution_count": 12
        }
      ]
    },
    {
      "cell_type": "code",
      "metadata": {
        "colab": {
          "base_uri": "https://localhost:8080/"
        },
        "id": "1uoxN2A7gn34",
        "outputId": "6d96cb96-d851-4cb2-f44e-b9bb4ca30b03"
      },
      "source": [
        "# Accesing the attributes\n",
        "\n",
        "print(car1.doors)\n",
        "print(car1.windows)\n",
        "print(car1.enginetype)\n",
        "print(car1.drive())"
      ],
      "execution_count": 9,
      "outputs": [
        {
          "output_type": "stream",
          "text": [
            "4\n",
            "4\n",
            "Disel\n",
            "The person drives the car\n",
            "None\n"
          ],
          "name": "stdout"
        }
      ]
    },
    {
      "cell_type": "code",
      "metadata": {
        "id": "T6Fxvgzsg25f"
      },
      "source": [
        "# Using inheritence\n",
        "\n",
        "class audi(car):\n",
        "  def __init__(self, windows, doors, enginetype, enableai):\n",
        "    super().__init__(windows, doors, enginetype)\n",
        "    self.enableai = enableai\n",
        "  def selfdriving(self):\n",
        "    print(\"Audi supports self driving\")"
      ],
      "execution_count": 11,
      "outputs": []
    },
    {
      "cell_type": "code",
      "metadata": {
        "id": "kLgGY0B-jH5L"
      },
      "source": [
        "# Creating an audi object\n",
        "\n",
        "audiQ7 = audi(5, 5, \"Disel\", True)"
      ],
      "execution_count": 13,
      "outputs": []
    },
    {
      "cell_type": "code",
      "metadata": {
        "colab": {
          "base_uri": "https://localhost:8080/"
        },
        "id": "JPSBZRUVkExg",
        "outputId": "fb6564ee-db01-4064-bbab-152005b7d612"
      },
      "source": [
        "# Checking the dir\n",
        "\n",
        "dir(audiQ7)"
      ],
      "execution_count": 14,
      "outputs": [
        {
          "output_type": "execute_result",
          "data": {
            "text/plain": [
              "['__class__',\n",
              " '__delattr__',\n",
              " '__dict__',\n",
              " '__dir__',\n",
              " '__doc__',\n",
              " '__eq__',\n",
              " '__format__',\n",
              " '__ge__',\n",
              " '__getattribute__',\n",
              " '__gt__',\n",
              " '__hash__',\n",
              " '__init__',\n",
              " '__init_subclass__',\n",
              " '__le__',\n",
              " '__lt__',\n",
              " '__module__',\n",
              " '__ne__',\n",
              " '__new__',\n",
              " '__reduce__',\n",
              " '__reduce_ex__',\n",
              " '__repr__',\n",
              " '__setattr__',\n",
              " '__sizeof__',\n",
              " '__str__',\n",
              " '__subclasshook__',\n",
              " '__weakref__',\n",
              " 'doors',\n",
              " 'drive',\n",
              " 'enableai',\n",
              " 'enginetype',\n",
              " 'selfdriving',\n",
              " 'windows']"
            ]
          },
          "metadata": {
            "tags": []
          },
          "execution_count": 14
        }
      ]
    },
    {
      "cell_type": "code",
      "metadata": {
        "colab": {
          "base_uri": "https://localhost:8080/"
        },
        "id": "XPspCMtqkHOk",
        "outputId": "07f2981a-ab6a-4199-c01c-11901a419279"
      },
      "source": [
        "# Accesing the attributes\n",
        "\n",
        "print(audiQ7.doors)\n",
        "print(audiQ7.windows)\n",
        "print(audiQ7.enginetype)\n",
        "print(audiQ7.drive())\n",
        "print(audiQ7.selfdriving())"
      ],
      "execution_count": 15,
      "outputs": [
        {
          "output_type": "stream",
          "text": [
            "5\n",
            "5\n",
            "Disel\n",
            "The person drives the car\n",
            "None\n",
            "Audi supports self driving\n",
            "None\n"
          ],
          "name": "stdout"
        }
      ]
    }
  ]
}