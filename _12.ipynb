{
  "nbformat": 4,
  "nbformat_minor": 0,
  "metadata": {
    "colab": {
      "name": "_12",
      "provenance": [],
      "authorship_tag": "ABX9TyN+p+021Vkm+Sov911yd3lO",
      "include_colab_link": true
    },
    "kernelspec": {
      "name": "python3",
      "display_name": "Python 3"
    },
    "language_info": {
      "name": "python"
    }
  },
  "cells": [
    {
      "cell_type": "markdown",
      "metadata": {
        "id": "view-in-github",
        "colab_type": "text"
      },
      "source": [
        "<a href=\"https://colab.research.google.com/github/swarnava-96/Advanced-Python-for-Data-Science/blob/main/_12.ipynb\" target=\"_parent\"><img src=\"https://colab.research.google.com/assets/colab-badge.svg\" alt=\"Open In Colab\"/></a>"
      ]
    },
    {
      "cell_type": "markdown",
      "metadata": {
        "id": "lg_1kBQfojF2"
      },
      "source": [
        "# **Eval Functions -- Evaluating Expressions Dynamically**\n",
        "Eval function evaluate python expressions which are written as strings.\n",
        "\n",
        "### How does eval work?\n",
        "* Parse python expression\n",
        "* Compile into a byte code\n",
        "* Evaluate the python expression\n",
        "* It will return the result"
      ]
    },
    {
      "cell_type": "code",
      "metadata": {
        "colab": {
          "base_uri": "https://localhost:8080/"
        },
        "id": "5I1kYwugospc",
        "outputId": "b8b0e6f3-2318-4e28-b0e8-315608dfe8a9"
      },
      "source": [
        "5 * 5"
      ],
      "execution_count": 1,
      "outputs": [
        {
          "output_type": "execute_result",
          "data": {
            "text/plain": [
              "25"
            ]
          },
          "metadata": {
            "tags": []
          },
          "execution_count": 1
        }
      ]
    },
    {
      "cell_type": "code",
      "metadata": {
        "colab": {
          "base_uri": "https://localhost:8080/"
        },
        "id": "qGCqWzikr0Z9",
        "outputId": "191a778c-3ad7-492d-86a7-3db55b4731f4"
      },
      "source": [
        "# lets use eval function for the above expression\n",
        "\n",
        "eval(\"5 * 5\")"
      ],
      "execution_count": 2,
      "outputs": [
        {
          "output_type": "execute_result",
          "data": {
            "text/plain": [
              "25"
            ]
          },
          "metadata": {
            "tags": []
          },
          "execution_count": 2
        }
      ]
    },
    {
      "cell_type": "code",
      "metadata": {
        "colab": {
          "base_uri": "https://localhost:8080/"
        },
        "id": "J7bJRaCIsD8d",
        "outputId": "2b09e506-4cb7-4469-d944-776ac4209fe8"
      },
      "source": [
        "# Example 1\n",
        "\n",
        "eval(input(\"Enter the python expression\"))"
      ],
      "execution_count": 3,
      "outputs": [
        {
          "output_type": "stream",
          "text": [
            "Enter the python expression5*5\n"
          ],
          "name": "stdout"
        },
        {
          "output_type": "execute_result",
          "data": {
            "text/plain": [
              "25"
            ]
          },
          "metadata": {
            "tags": []
          },
          "execution_count": 3
        }
      ]
    },
    {
      "cell_type": "code",
      "metadata": {
        "colab": {
          "base_uri": "https://localhost:8080/"
        },
        "id": "VPo0iH9vs1Dv",
        "outputId": "3afbe342-621e-434c-8bfb-8d7830a4583d"
      },
      "source": [
        "# Example 2\n",
        "\n",
        "eval(input(\"Enter the python expression \"))"
      ],
      "execution_count": 4,
      "outputs": [
        {
          "output_type": "stream",
          "text": [
            "Enter the python expression len([1,2,3,4,5])\n"
          ],
          "name": "stdout"
        },
        {
          "output_type": "execute_result",
          "data": {
            "text/plain": [
              "5"
            ]
          },
          "metadata": {
            "tags": []
          },
          "execution_count": 4
        }
      ]
    },
    {
      "cell_type": "code",
      "metadata": {
        "colab": {
          "base_uri": "https://localhost:8080/"
        },
        "id": "muS4IO-9umXo",
        "outputId": "be4e8d8f-f420-49df-c0c3-e6e9ce836dd6"
      },
      "source": [
        "# Example 3\n",
        "\n",
        "eval(input(\"Enter the python expression \"))"
      ],
      "execution_count": 5,
      "outputs": [
        {
          "output_type": "stream",
          "text": [
            "Enter the python expression sum([1,2,3,4,5])\n"
          ],
          "name": "stdout"
        },
        {
          "output_type": "execute_result",
          "data": {
            "text/plain": [
              "15"
            ]
          },
          "metadata": {
            "tags": []
          },
          "execution_count": 5
        }
      ]
    },
    {
      "cell_type": "code",
      "metadata": {
        "id": "zv8Fd9_SuxUH"
      },
      "source": [
        "# Lets try with some func\n",
        "\n",
        "def square_number(num):\n",
        "  return num**2"
      ],
      "execution_count": 6,
      "outputs": []
    },
    {
      "cell_type": "code",
      "metadata": {
        "colab": {
          "base_uri": "https://localhost:8080/"
        },
        "id": "GsuxpYQrvSs2",
        "outputId": "2329fe4d-320e-4735-b1f2-d55822472888"
      },
      "source": [
        "eval(\"square_number(2)\")"
      ],
      "execution_count": 7,
      "outputs": [
        {
          "output_type": "execute_result",
          "data": {
            "text/plain": [
              "4"
            ]
          },
          "metadata": {
            "tags": []
          },
          "execution_count": 7
        }
      ]
    },
    {
      "cell_type": "code",
      "metadata": {
        "colab": {
          "base_uri": "https://localhost:8080/"
        },
        "id": "Y0V5u486vY3b",
        "outputId": "323b7ed7-47ad-47d6-b4fc-0f490efce163"
      },
      "source": [
        "# Lets see the compile function \n",
        "\n",
        "var = compile(\"5 * 5\", \"<string>\", \"eval\" )\n",
        "eval(var)"
      ],
      "execution_count": 8,
      "outputs": [
        {
          "output_type": "execute_result",
          "data": {
            "text/plain": [
              "25"
            ]
          },
          "metadata": {
            "tags": []
          },
          "execution_count": 8
        }
      ]
    },
    {
      "cell_type": "code",
      "metadata": {
        "colab": {
          "base_uri": "https://localhost:8080/"
        },
        "id": "t3JDeEWQxle_",
        "outputId": "7ed1f75a-d519-47c7-ec96-88680db9934f"
      },
      "source": [
        "# Global Variable --> must be provided in key value pairs\n",
        "\n",
        "eval(\"x + 50 + x**2\", {\"x\" : 5})"
      ],
      "execution_count": 9,
      "outputs": [
        {
          "output_type": "execute_result",
          "data": {
            "text/plain": [
              "80"
            ]
          },
          "metadata": {
            "tags": []
          },
          "execution_count": 9
        }
      ]
    },
    {
      "cell_type": "code",
      "metadata": {
        "colab": {
          "base_uri": "https://localhost:8080/"
        },
        "id": "brIMocYCyIRn",
        "outputId": "e4a4eaa3-b775-4ed5-85d2-8d2c2006d143"
      },
      "source": [
        "# Alternative way of representing a Global variable\n",
        "\n",
        "x = 5\n",
        "eval(\"x + 50 + x**2\", {\"x\" : x})"
      ],
      "execution_count": 10,
      "outputs": [
        {
          "output_type": "execute_result",
          "data": {
            "text/plain": [
              "80"
            ]
          },
          "metadata": {
            "tags": []
          },
          "execution_count": 10
        }
      ]
    },
    {
      "cell_type": "code",
      "metadata": {
        "colab": {
          "base_uri": "https://localhost:8080/"
        },
        "id": "ZffqQKMHyvuL",
        "outputId": "ae55a414-d9cb-47e0-8558-25bf6fa9ccda"
      },
      "source": [
        "# Using two global variables\n",
        "\n",
        "x = 100\n",
        "z = 100\n",
        "\n",
        "eval(\"x + z\", {\"x\" : x, \"z\" : z})"
      ],
      "execution_count": 11,
      "outputs": [
        {
          "output_type": "execute_result",
          "data": {
            "text/plain": [
              "200"
            ]
          },
          "metadata": {
            "tags": []
          },
          "execution_count": 11
        }
      ]
    },
    {
      "cell_type": "code",
      "metadata": {
        "colab": {
          "base_uri": "https://localhost:8080/"
        },
        "id": "Y7Q8f5ffzRGa",
        "outputId": "91182c50-c0aa-47ee-9014-69df32c1b882"
      },
      "source": [
        "# Using three global variables\n",
        "\n",
        "x = 100\n",
        "z = 100\n",
        "\n",
        "eval(\"x + z + w\", {\"x\" : x, \"z\" : z, \"w\" : 100})"
      ],
      "execution_count": 12,
      "outputs": [
        {
          "output_type": "execute_result",
          "data": {
            "text/plain": [
              "300"
            ]
          },
          "metadata": {
            "tags": []
          },
          "execution_count": 12
        }
      ]
    },
    {
      "cell_type": "code",
      "metadata": {
        "colab": {
          "base_uri": "https://localhost:8080/"
        },
        "id": "D2pJsPDgzip9",
        "outputId": "c3734b1b-235b-410f-d50b-0924e611e9f6"
      },
      "source": [
        "# Alternative way of using global variable\n",
        "\n",
        "x = 100\n",
        "y = 100\n",
        "z = 300\n",
        "\n",
        "eval(\"x + y + z\")"
      ],
      "execution_count": 13,
      "outputs": [
        {
          "output_type": "execute_result",
          "data": {
            "text/plain": [
              "500"
            ]
          },
          "metadata": {
            "tags": []
          },
          "execution_count": 13
        }
      ]
    },
    {
      "cell_type": "code",
      "metadata": {
        "colab": {
          "base_uri": "https://localhost:8080/"
        },
        "id": "MtWbc6a2zzQo",
        "outputId": "55369e32-9c62-4fd3-fc97-cfb93c36da2b"
      },
      "source": [
        "# Local variables\n",
        "\n",
        "eval(\"x + y\", {}, {\"x\" : 100, \"y\" : 100})  #Here we are keeping the second place empty as it is for Global variables"
      ],
      "execution_count": 14,
      "outputs": [
        {
          "output_type": "execute_result",
          "data": {
            "text/plain": [
              "200"
            ]
          },
          "metadata": {
            "tags": []
          },
          "execution_count": 14
        }
      ]
    },
    {
      "cell_type": "code",
      "metadata": {
        "colab": {
          "base_uri": "https://localhost:8080/"
        },
        "id": "uhPhWdg60Okj",
        "outputId": "aa75ee09-f3e8-4167-bd76-203158c32171"
      },
      "source": [
        "# Boolean operations\n",
        "\n",
        "a = 10\n",
        "b = 12\n",
        "\n",
        "eval(\"a < b\")"
      ],
      "execution_count": 15,
      "outputs": [
        {
          "output_type": "execute_result",
          "data": {
            "text/plain": [
              "True"
            ]
          },
          "metadata": {
            "tags": []
          },
          "execution_count": 15
        }
      ]
    },
    {
      "cell_type": "markdown",
      "metadata": {
        "id": "4ZrQwQjr1JCx"
      },
      "source": [
        "# Disadvantages of eval func\n",
        "\n",
        "* Insecure -- enables us to dynamically execute arbitrary code.\n",
        "* Bad way of programming\n",
        "* If we do not mention our local and global variable, it will throw an error."
      ]
    },
    {
      "cell_type": "code",
      "metadata": {
        "colab": {
          "base_uri": "https://localhost:8080/",
          "height": 231
        },
        "id": "Q9gnOXsn1vq1",
        "outputId": "e0e7e7fc-e16b-4709-ceaf-7f81fe7e1352"
      },
      "source": [
        "# If we do not mention our local and global variable, it will throw an error.\n",
        "\n",
        "a = 10\n",
        "b = 10\n",
        "\n",
        "eval(\"a + b\", {}, {})"
      ],
      "execution_count": 16,
      "outputs": [
        {
          "output_type": "error",
          "ename": "NameError",
          "evalue": "ignored",
          "traceback": [
            "\u001b[0;31m---------------------------------------------------------------------------\u001b[0m",
            "\u001b[0;31mNameError\u001b[0m                                 Traceback (most recent call last)",
            "\u001b[0;32m<ipython-input-16-8c3ff442ccbf>\u001b[0m in \u001b[0;36m<module>\u001b[0;34m()\u001b[0m\n\u001b[1;32m      4\u001b[0m \u001b[0mb\u001b[0m \u001b[0;34m=\u001b[0m \u001b[0;36m10\u001b[0m\u001b[0;34m\u001b[0m\u001b[0;34m\u001b[0m\u001b[0m\n\u001b[1;32m      5\u001b[0m \u001b[0;34m\u001b[0m\u001b[0m\n\u001b[0;32m----> 6\u001b[0;31m \u001b[0meval\u001b[0m\u001b[0;34m(\u001b[0m\u001b[0;34m\"a + b\"\u001b[0m\u001b[0;34m,\u001b[0m \u001b[0;34m{\u001b[0m\u001b[0;34m}\u001b[0m\u001b[0;34m,\u001b[0m \u001b[0;34m{\u001b[0m\u001b[0;34m}\u001b[0m\u001b[0;34m)\u001b[0m\u001b[0;34m\u001b[0m\u001b[0;34m\u001b[0m\u001b[0m\n\u001b[0m",
            "\u001b[0;32m<string>\u001b[0m in \u001b[0;36m<module>\u001b[0;34m()\u001b[0m\n",
            "\u001b[0;31mNameError\u001b[0m: name 'a' is not defined"
          ]
        }
      ]
    }
  ]
}