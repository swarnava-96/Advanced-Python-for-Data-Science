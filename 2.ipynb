{
  "nbformat": 4,
  "nbformat_minor": 0,
  "metadata": {
    "colab": {
      "name": "2",
      "provenance": [],
      "authorship_tag": "ABX9TyNAs1W792IvhlW6B+Tz82kf",
      "include_colab_link": true
    },
    "kernelspec": {
      "name": "python3",
      "display_name": "Python 3"
    },
    "language_info": {
      "name": "python"
    }
  },
  "cells": [
    {
      "cell_type": "markdown",
      "metadata": {
        "id": "view-in-github",
        "colab_type": "text"
      },
      "source": [
        "<a href=\"https://colab.research.google.com/github/swarnava-96/Advanced-Python-for-Data-Science/blob/main/2.ipynb\" target=\"_parent\"><img src=\"https://colab.research.google.com/assets/colab-badge.svg\" alt=\"Open In Colab\"/></a>"
      ]
    },
    {
      "cell_type": "markdown",
      "metadata": {
        "id": "QIfO5Zk44eH_"
      },
      "source": [
        "# **Exception Handling**"
      ]
    },
    {
      "cell_type": "markdown",
      "metadata": {
        "id": "0W4qbZkB5Hja"
      },
      "source": [
        "### Lets create a NameError"
      ]
    },
    {
      "cell_type": "code",
      "metadata": {
        "colab": {
          "base_uri": "https://localhost:8080/",
          "height": 163
        },
        "id": "UIb25c7O4h-O",
        "outputId": "d2d2259c-78fb-47f8-9a15-82b3fa1275cf"
      },
      "source": [
        "a = b"
      ],
      "execution_count": 1,
      "outputs": [
        {
          "output_type": "error",
          "ename": "NameError",
          "evalue": "ignored",
          "traceback": [
            "\u001b[0;31m---------------------------------------------------------------------------\u001b[0m",
            "\u001b[0;31mNameError\u001b[0m                                 Traceback (most recent call last)",
            "\u001b[0;32m<ipython-input-1-7a6469f55ed0>\u001b[0m in \u001b[0;36m<module>\u001b[0;34m()\u001b[0m\n\u001b[0;32m----> 1\u001b[0;31m \u001b[0ma\u001b[0m \u001b[0;34m=\u001b[0m \u001b[0mb\u001b[0m\u001b[0;34m\u001b[0m\u001b[0;34m\u001b[0m\u001b[0m\n\u001b[0m",
            "\u001b[0;31mNameError\u001b[0m: name 'b' is not defined"
          ]
        }
      ]
    },
    {
      "cell_type": "markdown",
      "metadata": {
        "id": "kG3TDwGI5RBP"
      },
      "source": [
        "### Using try except block to handle the above exception"
      ]
    },
    {
      "cell_type": "code",
      "metadata": {
        "colab": {
          "base_uri": "https://localhost:8080/"
        },
        "id": "3c-QI_Ek5TFA",
        "outputId": "dad6d219-3a18-4058-ee3b-b252d4dd4dc1"
      },
      "source": [
        "try:\n",
        "  ### Code block where exception can occur\n",
        "\n",
        "  a = b\n",
        "\n",
        "except:\n",
        "  print(\"Some problem may have occured\")"
      ],
      "execution_count": 2,
      "outputs": [
        {
          "output_type": "stream",
          "text": [
            "Some problem may have occured\n"
          ],
          "name": "stdout"
        }
      ]
    },
    {
      "cell_type": "markdown",
      "metadata": {
        "id": "kcrkhRnF53HA"
      },
      "source": [
        "### We are not able to get what the error was. So we will use Exception."
      ]
    },
    {
      "cell_type": "code",
      "metadata": {
        "colab": {
          "base_uri": "https://localhost:8080/"
        },
        "id": "N85eo1c06GOj",
        "outputId": "6d9a3523-72c4-49e7-c7b3-0f4a4d236736"
      },
      "source": [
        "try:\n",
        "  a = b\n",
        "\n",
        "except Exception as ex:\n",
        "  print(ex)"
      ],
      "execution_count": 3,
      "outputs": [
        {
          "output_type": "stream",
          "text": [
            "name 'b' is not defined\n"
          ],
          "name": "stdout"
        }
      ]
    },
    {
      "cell_type": "markdown",
      "metadata": {
        "id": "DCYnDN9E6qsA"
      },
      "source": [
        "### Creating our own custom exception\n",
        "\n",
        "NOTE: We have to write the child classes first and at the end we will write \"except Exception as ex\" otherwise it will handle it."
      ]
    },
    {
      "cell_type": "code",
      "metadata": {
        "colab": {
          "base_uri": "https://localhost:8080/"
        },
        "id": "PBCA5JXs7B6R",
        "outputId": "2ed1515c-6da5-49e7-832a-4067ffcdd8d2"
      },
      "source": [
        "# Example 1\n",
        "\n",
        "try:\n",
        "\n",
        "  a = b\n",
        "\n",
        "except NameError:\n",
        "\n",
        "  print(\"The user have not defined the variable\")\n",
        "\n",
        "except Exception as ex:\n",
        "\n",
        "  print(ex)\n"
      ],
      "execution_count": 4,
      "outputs": [
        {
          "output_type": "stream",
          "text": [
            "The user have not defined the variable\n"
          ],
          "name": "stdout"
        }
      ]
    },
    {
      "cell_type": "code",
      "metadata": {
        "colab": {
          "base_uri": "https://localhost:8080/"
        },
        "id": "-rSoAvKJ7cB5",
        "outputId": "4988a945-4cba-41cb-cd25-bb6e294acb09"
      },
      "source": [
        "# Example 2\n",
        "\n",
        "try:\n",
        "  a = 1\n",
        "  b = \"S\"\n",
        "  c = a + b\n",
        "\n",
        "except NameError:\n",
        "  print(\"The user have not defined the variable\")\n",
        "\n",
        "except TypeError:\n",
        "  print(\"Try to make the datatype similar\")\n",
        "\n",
        "except Exception as ex:\n",
        "  print(ex)"
      ],
      "execution_count": 5,
      "outputs": [
        {
          "output_type": "stream",
          "text": [
            "Try to make the datatype similar\n"
          ],
          "name": "stdout"
        }
      ]
    },
    {
      "cell_type": "code",
      "metadata": {
        "colab": {
          "base_uri": "https://localhost:8080/"
        },
        "id": "9AV4_A4W8e9G",
        "outputId": "cf48534e-3e78-4db9-8924-e52f24eff5aa"
      },
      "source": [
        "# Example 3\n",
        "\n",
        "try:\n",
        "  a = int(input(\"Enter the first number\"))\n",
        "  b = int(input(\"Enter the second number\"))\n",
        "\n",
        "  c = a/b\n",
        "  d = a * b\n",
        "  e = a + b\n",
        "\n",
        "  print(c)\n",
        "  print(d)\n",
        "  print(e)\n",
        "\n",
        "\n",
        "except NameError:\n",
        "  print(\"The user have not defined the variable\")\n",
        "\n",
        "except ZeroDivisionError:\n",
        "  print(\"Please provide a number greater than 0\")\n",
        "\n",
        "except TypeError:\n",
        "  print(\"Try to make the datatype similar\")\n",
        "\n",
        "except Exception as ex:\n",
        "  print(ex)"
      ],
      "execution_count": 7,
      "outputs": [
        {
          "output_type": "stream",
          "text": [
            "Enter the first number12\n",
            "Enter the second number0\n",
            "Please provide a number greater than 0\n"
          ],
          "name": "stdout"
        }
      ]
    },
    {
      "cell_type": "markdown",
      "metadata": {
        "id": "smvj6h-O-a47"
      },
      "source": [
        "### Using try except else block to handle exception"
      ]
    },
    {
      "cell_type": "code",
      "metadata": {
        "colab": {
          "base_uri": "https://localhost:8080/"
        },
        "id": "adMfWxye-dLE",
        "outputId": "c8d7e60c-1bfd-4a4d-cebb-77dcf237eb34"
      },
      "source": [
        "# Example 4\n",
        "\n",
        "try:\n",
        "  a = int(input(\"Enter the first number\"))\n",
        "  b = int(input(\"Enter the second number\"))\n",
        "\n",
        "  c = a/b\n",
        "  d = a * b\n",
        "  e = a + b\n",
        "\n",
        "except NameError:\n",
        "  print(\"The user have not defined the variable\")\n",
        "\n",
        "except ZeroDivisionError:\n",
        "  print(\"Please provide a number greater than 0\")\n",
        "\n",
        "except TypeError:\n",
        "  print(\"Try to make the datatype similar\")\n",
        "\n",
        "except Exception as ex:\n",
        "  print(ex)\n",
        "\n",
        "else:\n",
        "  print(c)\n",
        "  print(d)\n",
        "  print(e)"
      ],
      "execution_count": 8,
      "outputs": [
        {
          "output_type": "stream",
          "text": [
            "Enter the first number12\n",
            "Enter the second number4\n",
            "3.0\n",
            "48\n",
            "16\n"
          ],
          "name": "stdout"
        }
      ]
    },
    {
      "cell_type": "markdown",
      "metadata": {
        "id": "BNcL5eJe_EBb"
      },
      "source": [
        "### Using try except else finally block to handle exception"
      ]
    },
    {
      "cell_type": "code",
      "metadata": {
        "colab": {
          "base_uri": "https://localhost:8080/"
        },
        "id": "b7QinwMp_GKX",
        "outputId": "3dba9063-cabc-457c-9f56-b7a59d547ae4"
      },
      "source": [
        "# Example 5\n",
        "\n",
        "try:\n",
        "  a = int(input(\"Enter the first number\"))\n",
        "  b = int(input(\"Enter the second number\"))\n",
        "\n",
        "  c = a/b\n",
        "\n",
        "except NameError:\n",
        "  print(\"The user have not defined the variable\")\n",
        "\n",
        "except ZeroDivisionError:\n",
        "  print(\"Please provide a number greater than 0\")\n",
        "\n",
        "except TypeError:\n",
        "  print(\"Try to make the datatype similar\")\n",
        "\n",
        "except Exception as ex:\n",
        "  print(ex)\n",
        "\n",
        "else:\n",
        "  print(c)\n",
        "  \n",
        "finally:\n",
        "  print(\"The excution is done.\")"
      ],
      "execution_count": 9,
      "outputs": [
        {
          "output_type": "stream",
          "text": [
            "Enter the first number12\n",
            "Enter the second number4\n",
            "3.0\n",
            "The excution is done.\n"
          ],
          "name": "stdout"
        }
      ]
    },
    {
      "cell_type": "code",
      "metadata": {
        "colab": {
          "base_uri": "https://localhost:8080/"
        },
        "id": "R24FdnFi_bof",
        "outputId": "14e2e8c7-60cc-45f0-c879-76aec6f571f2"
      },
      "source": [
        "# Example 6\n",
        "\n",
        "try:\n",
        "  a = int(input(\"Enter the first number\"))\n",
        "  b = int(input(\"Enter the second number\"))\n",
        "\n",
        "  c = a/b\n",
        "\n",
        "except NameError:\n",
        "  print(\"The user have not defined the variable\")\n",
        "\n",
        "except ZeroDivisionError:\n",
        "  print(\"Please provide a number greater than 0\")\n",
        "\n",
        "except TypeError:\n",
        "  print(\"Try to make the datatype similar\")\n",
        "\n",
        "except Exception as ex:\n",
        "  print(ex)\n",
        "\n",
        "else:\n",
        "  print(c)\n",
        "  \n",
        "finally:\n",
        "  print(\"The excution is done.\")"
      ],
      "execution_count": 10,
      "outputs": [
        {
          "output_type": "stream",
          "text": [
            "Enter the first number12\n",
            "Enter the second number0\n",
            "Please provide a number greater than 0\n",
            "The excution is done.\n"
          ],
          "name": "stdout"
        }
      ]
    },
    {
      "cell_type": "markdown",
      "metadata": {
        "id": "wHHpWkYhBW0k"
      },
      "source": [
        "### Creating our own custom exception and handling it"
      ]
    },
    {
      "cell_type": "code",
      "metadata": {
        "id": "rU8wtyl-BZ1H"
      },
      "source": [
        "class Error(Exception):\n",
        "  pass\n",
        "\n",
        "class dobException(Error):\n",
        "  pass"
      ],
      "execution_count": 11,
      "outputs": []
    },
    {
      "cell_type": "code",
      "metadata": {
        "colab": {
          "base_uri": "https://localhost:8080/"
        },
        "id": "9PtwS3r2BrH9",
        "outputId": "cf73432d-8399-4e3e-f9fb-4eebe4e0f8e5"
      },
      "source": [
        "year = int(input(\"Your Year of Birth is \"))\n",
        "age = 2021 - year\n",
        "\n",
        "try:\n",
        "  if age <= 30 and age >= 20:\n",
        "    print(\"The age is valid. You can apply for the job.\")\n",
        "  \n",
        "  else:\n",
        "    raise dobException\n",
        "\n",
        "except dobException:\n",
        "  print(\"The age is not within the range. You cannot apply for the job.\")"
      ],
      "execution_count": 18,
      "outputs": [
        {
          "output_type": "stream",
          "text": [
            "Your Year of Birth is 1980\n",
            "The age is not within the range. You cannot apply for the job.\n"
          ],
          "name": "stdout"
        }
      ]
    }
  ]
}