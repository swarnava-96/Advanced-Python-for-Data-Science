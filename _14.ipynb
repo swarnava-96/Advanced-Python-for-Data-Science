{
  "nbformat": 4,
  "nbformat_minor": 0,
  "metadata": {
    "colab": {
      "name": "_14",
      "provenance": [],
      "authorship_tag": "ABX9TyMLw7C6I2hIg3fQusS2+xCp",
      "include_colab_link": true
    },
    "kernelspec": {
      "name": "python3",
      "display_name": "Python 3"
    },
    "language_info": {
      "name": "python"
    }
  },
  "cells": [
    {
      "cell_type": "markdown",
      "metadata": {
        "id": "view-in-github",
        "colab_type": "text"
      },
      "source": [
        "<a href=\"https://colab.research.google.com/github/swarnava-96/Advanced-Python-for-Data-Science/blob/main/_14.ipynb\" target=\"_parent\"><img src=\"https://colab.research.google.com/assets/colab-badge.svg\" alt=\"Open In Colab\"/></a>"
      ]
    },
    {
      "cell_type": "markdown",
      "metadata": {
        "id": "JxE7yLZngopM"
      },
      "source": [
        "# **Zip Function- Easy Parallel Iteration for Multiple Iterators**"
      ]
    },
    {
      "cell_type": "code",
      "metadata": {
        "id": "Hrepxwejgsz2"
      },
      "source": [
        "# Creating two iterables\n",
        "\n",
        "list1 = [\"Swarnava\", \"Pushpok\", \"Abhishek\"]\n",
        "list2 = [25, 24, 25]"
      ],
      "execution_count": 1,
      "outputs": []
    },
    {
      "cell_type": "code",
      "metadata": {
        "id": "cxjyuPlWp9EW"
      },
      "source": [
        "# using zip func\n",
        "\n",
        "output = zip(list1, list2)"
      ],
      "execution_count": 13,
      "outputs": []
    },
    {
      "cell_type": "code",
      "metadata": {
        "colab": {
          "base_uri": "https://localhost:8080/"
        },
        "id": "qFveFgYCqP77",
        "outputId": "3b12709b-0c1a-41e6-c4e7-15ada428eee1"
      },
      "source": [
        "output"
      ],
      "execution_count": 3,
      "outputs": [
        {
          "output_type": "execute_result",
          "data": {
            "text/plain": [
              "<zip at 0x7fdabf5b7190>"
            ]
          },
          "metadata": {
            "tags": []
          },
          "execution_count": 3
        }
      ]
    },
    {
      "cell_type": "code",
      "metadata": {
        "colab": {
          "base_uri": "https://localhost:8080/"
        },
        "id": "Tb9AvOcmqYfU",
        "outputId": "2e70685a-0c3c-49d9-c4f0-2c03ed8b24a4"
      },
      "source": [
        "# Typecasting to a list\n",
        "\n",
        "list(output)"
      ],
      "execution_count": 4,
      "outputs": [
        {
          "output_type": "execute_result",
          "data": {
            "text/plain": [
              "[('Swarnava', 25), ('Pushpok', 24), ('Abhishek', 25)]"
            ]
          },
          "metadata": {
            "tags": []
          },
          "execution_count": 4
        }
      ]
    },
    {
      "cell_type": "code",
      "metadata": {
        "colab": {
          "base_uri": "https://localhost:8080/"
        },
        "id": "VSUoyNIbqncA",
        "outputId": "5a4fb253-fd65-4ddc-899b-e7cf803226dc"
      },
      "source": [
        "# Zip object is an iterator\n",
        "\n",
        "next(output)"
      ],
      "execution_count": 7,
      "outputs": [
        {
          "output_type": "execute_result",
          "data": {
            "text/plain": [
              "('Swarnava', 25)"
            ]
          },
          "metadata": {
            "tags": []
          },
          "execution_count": 7
        }
      ]
    },
    {
      "cell_type": "code",
      "metadata": {
        "colab": {
          "base_uri": "https://localhost:8080/"
        },
        "id": "5gjfG6Upr7Wg",
        "outputId": "e4f71049-baef-4dd0-b62d-b5f140244df0"
      },
      "source": [
        "next(output)"
      ],
      "execution_count": 8,
      "outputs": [
        {
          "output_type": "execute_result",
          "data": {
            "text/plain": [
              "('Pushpok', 24)"
            ]
          },
          "metadata": {
            "tags": []
          },
          "execution_count": 8
        }
      ]
    },
    {
      "cell_type": "code",
      "metadata": {
        "colab": {
          "base_uri": "https://localhost:8080/"
        },
        "id": "9OMfs741sB-l",
        "outputId": "fe5418f7-2518-4376-e68b-fc25d3cb87d0"
      },
      "source": [
        "next(output)"
      ],
      "execution_count": 9,
      "outputs": [
        {
          "output_type": "execute_result",
          "data": {
            "text/plain": [
              "('Abhishek', 25)"
            ]
          },
          "metadata": {
            "tags": []
          },
          "execution_count": 9
        }
      ]
    },
    {
      "cell_type": "code",
      "metadata": {
        "colab": {
          "base_uri": "https://localhost:8080/",
          "height": 163
        },
        "id": "ljJQ27-CsDH7",
        "outputId": "9f5e2792-1e3b-49a6-ea5c-3ad7853edb42"
      },
      "source": [
        "next(output)"
      ],
      "execution_count": 10,
      "outputs": [
        {
          "output_type": "error",
          "ename": "StopIteration",
          "evalue": "ignored",
          "traceback": [
            "\u001b[0;31m---------------------------------------------------------------------------\u001b[0m",
            "\u001b[0;31mStopIteration\u001b[0m                             Traceback (most recent call last)",
            "\u001b[0;32m<ipython-input-10-22007c0013b3>\u001b[0m in \u001b[0;36m<module>\u001b[0;34m()\u001b[0m\n\u001b[0;32m----> 1\u001b[0;31m \u001b[0mnext\u001b[0m\u001b[0;34m(\u001b[0m\u001b[0moutput\u001b[0m\u001b[0;34m)\u001b[0m\u001b[0;34m\u001b[0m\u001b[0;34m\u001b[0m\u001b[0m\n\u001b[0m",
            "\u001b[0;31mStopIteration\u001b[0m: "
          ]
        }
      ]
    },
    {
      "cell_type": "code",
      "metadata": {
        "colab": {
          "base_uri": "https://localhost:8080/"
        },
        "id": "IGKZWxBQsE2X",
        "outputId": "39f3fd6e-f3d7-4478-8bb2-2b201fe32e1b"
      },
      "source": [
        "# we can use for loop to iterate each element in output\n",
        "\n",
        "for i in output:\n",
        "  print(i)"
      ],
      "execution_count": 12,
      "outputs": [
        {
          "output_type": "stream",
          "text": [
            "('Swarnava', 25)\n",
            "('Pushpok', 24)\n",
            "('Abhishek', 25)\n"
          ],
          "name": "stdout"
        }
      ]
    },
    {
      "cell_type": "markdown",
      "metadata": {
        "id": "525ZzXKHs5GQ"
      },
      "source": [
        "Here above, it is considering each tuple as an object."
      ]
    },
    {
      "cell_type": "code",
      "metadata": {
        "colab": {
          "base_uri": "https://localhost:8080/"
        },
        "id": "vW91ASMTsmtC",
        "outputId": "65989c22-ae5a-4b29-9771-89caf96238e4"
      },
      "source": [
        "# To access each element of both the tuples we should iterate through i and j\n",
        "\n",
        "for i,j in output:\n",
        "  print(i,j)"
      ],
      "execution_count": 14,
      "outputs": [
        {
          "output_type": "stream",
          "text": [
            "Swarnava 25\n",
            "Pushpok 24\n",
            "Abhishek 25\n"
          ],
          "name": "stdout"
        }
      ]
    },
    {
      "cell_type": "code",
      "metadata": {
        "colab": {
          "base_uri": "https://localhost:8080/"
        },
        "id": "z3Q2nIlUswrl",
        "outputId": "29fa138d-7912-4ef4-a260-fa86a7d1c8ce"
      },
      "source": [
        "# Lets craete another list\n",
        "\n",
        "list1 = [\"Swarnava\", \"Pushpok\", \"Abhishek\"]\n",
        "list2 = [25, 24, 25]\n",
        "list3 = [\"Data Science\", \"Accounts\", \"IT\"]\n",
        "\n",
        "output = zip(list1, list2, list3)\n",
        "\n",
        "# To access each element of the tuples we should iterate through i,j and k\n",
        "\n",
        "for (i, j, k) in output:\n",
        "  print(i, j, k)"
      ],
      "execution_count": 15,
      "outputs": [
        {
          "output_type": "stream",
          "text": [
            "Swarnava 25 Data Science\n",
            "Pushpok 24 Accounts\n",
            "Abhishek 25 IT\n"
          ],
          "name": "stdout"
        }
      ]
    },
    {
      "cell_type": "code",
      "metadata": {
        "colab": {
          "base_uri": "https://localhost:8080/"
        },
        "id": "DemW0D4WufVd",
        "outputId": "2823098d-ef7a-4d78-e020-0217589c81ab"
      },
      "source": [
        "# Lets create two dictionaries and try out with zip functions\n",
        "\n",
        "dict1 = {\"first_name\" : \"Swarnava\", \"last_name\" : \"Mukherjee\", \"age\" : 25}\n",
        "dict2 = {\"first_name\" : \"Abhishek\", \"last_name\" : \"Roy\", \"age\" : 25}\n",
        "\n",
        "# Lets use zip\n",
        "\n",
        "dictionary = zip(dict1.items(), dict2.items())\n",
        "\n",
        "# lets use for loop\n",
        "\n",
        "for (i, j), (i2, j2) in dictionary:\n",
        "  print(i, j)\n",
        "  print(i2, j2)\n"
      ],
      "execution_count": 16,
      "outputs": [
        {
          "output_type": "stream",
          "text": [
            "first_name Swarnava\n",
            "first_name Abhishek\n",
            "last_name Mukherjee\n",
            "last_name Roy\n",
            "age 25\n",
            "age 25\n"
          ],
          "name": "stdout"
        }
      ]
    },
    {
      "cell_type": "code",
      "metadata": {
        "colab": {
          "base_uri": "https://localhost:8080/"
        },
        "id": "f8dLKGVuwThe",
        "outputId": "549008d6-cbf4-4f52-c691-8b3f626dfc9c"
      },
      "source": [
        "dict1"
      ],
      "execution_count": 17,
      "outputs": [
        {
          "output_type": "execute_result",
          "data": {
            "text/plain": [
              "{'age': 25, 'first_name': 'Swarnava', 'last_name': 'Mukherjee'}"
            ]
          },
          "metadata": {
            "tags": []
          },
          "execution_count": 17
        }
      ]
    },
    {
      "cell_type": "code",
      "metadata": {
        "colab": {
          "base_uri": "https://localhost:8080/"
        },
        "id": "Pt3eS4PwwbUn",
        "outputId": "8d003120-d415-45dc-f311-4917702cb6fe"
      },
      "source": [
        "dict2"
      ],
      "execution_count": 18,
      "outputs": [
        {
          "output_type": "execute_result",
          "data": {
            "text/plain": [
              "{'age': 25, 'first_name': 'Abhishek', 'last_name': 'Roy'}"
            ]
          },
          "metadata": {
            "tags": []
          },
          "execution_count": 18
        }
      ]
    }
  ]
}