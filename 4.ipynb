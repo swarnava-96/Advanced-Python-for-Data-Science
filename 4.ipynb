{
  "nbformat": 4,
  "nbformat_minor": 0,
  "metadata": {
    "colab": {
      "name": "4",
      "provenance": [],
      "authorship_tag": "ABX9TyOxJhVEvSirjA51rbqTZaCb",
      "include_colab_link": true
    },
    "kernelspec": {
      "name": "python3",
      "display_name": "Python 3"
    },
    "language_info": {
      "name": "python"
    }
  },
  "cells": [
    {
      "cell_type": "markdown",
      "metadata": {
        "id": "view-in-github",
        "colab_type": "text"
      },
      "source": [
        "<a href=\"https://colab.research.google.com/github/swarnava-96/Advanced-Python-for-Data-Science/blob/main/4.ipynb\" target=\"_parent\"><img src=\"https://colab.research.google.com/assets/colab-badge.svg\" alt=\"Open In Colab\"/></a>"
      ]
    },
    {
      "cell_type": "markdown",
      "metadata": {
        "id": "nWYS5BVv26_I"
      },
      "source": [
        "# **Magic methods in classes**"
      ]
    },
    {
      "cell_type": "code",
      "metadata": {
        "id": "b0x5_vOK2_Ay"
      },
      "source": [
        "## All the class variables are public\n",
        "\n",
        "### Car Blueprint\n",
        "\n",
        "class car():\n",
        "  def __init__(self, windows, doors, enginetype):\n",
        "    self.windows = windows\n",
        "    self.doors = doors\n",
        "    self.enginetype = enginetype\n",
        "  def drive(self):\n",
        "    print(\"The person drives the car\")"
      ],
      "execution_count": 1,
      "outputs": []
    },
    {
      "cell_type": "code",
      "metadata": {
        "id": "Yy_ReEnL43HW"
      },
      "source": [
        "c = car(4, 4, \"Petrol\")"
      ],
      "execution_count": 2,
      "outputs": []
    },
    {
      "cell_type": "code",
      "metadata": {
        "colab": {
          "base_uri": "https://localhost:8080/"
        },
        "id": "zBl-9m-k489T",
        "outputId": "182e7079-a0e6-476b-ef90-4119b65f4b6a"
      },
      "source": [
        "These are the magic methods\n",
        "\n",
        "dir(c)"
      ],
      "execution_count": 3,
      "outputs": [
        {
          "output_type": "execute_result",
          "data": {
            "text/plain": [
              "['__class__',\n",
              " '__delattr__',\n",
              " '__dict__',\n",
              " '__dir__',\n",
              " '__doc__',\n",
              " '__eq__',\n",
              " '__format__',\n",
              " '__ge__',\n",
              " '__getattribute__',\n",
              " '__gt__',\n",
              " '__hash__',\n",
              " '__init__',\n",
              " '__init_subclass__',\n",
              " '__le__',\n",
              " '__lt__',\n",
              " '__module__',\n",
              " '__ne__',\n",
              " '__new__',\n",
              " '__reduce__',\n",
              " '__reduce_ex__',\n",
              " '__repr__',\n",
              " '__setattr__',\n",
              " '__sizeof__',\n",
              " '__str__',\n",
              " '__subclasshook__',\n",
              " '__weakref__',\n",
              " 'doors',\n",
              " 'drive',\n",
              " 'enginetype',\n",
              " 'windows']"
            ]
          },
          "metadata": {
            "tags": []
          },
          "execution_count": 3
        }
      ]
    },
    {
      "cell_type": "code",
      "metadata": {
        "colab": {
          "base_uri": "https://localhost:8080/"
        },
        "id": "S6QdHS0_4-fx",
        "outputId": "fd969300-6aa3-409e-d0bf-b73f443ccb08"
      },
      "source": [
        "c"
      ],
      "execution_count": 4,
      "outputs": [
        {
          "output_type": "execute_result",
          "data": {
            "text/plain": [
              "<__main__.car at 0x7f47d4c2e190>"
            ]
          },
          "metadata": {
            "tags": []
          },
          "execution_count": 4
        }
      ]
    },
    {
      "cell_type": "code",
      "metadata": {
        "id": "o9Zt-OUi5J8a"
      },
      "source": [
        "# Overwritting magic methods\n",
        "\n",
        "class car():\n",
        "  def __init__(self, windows, doors, enginetype):\n",
        "    self.windows = windows\n",
        "    self.doors = doors \n",
        "    self.enginetype = enginetype\n",
        "  def __str__(self):\n",
        "    return \"The object has been initialized\"\n",
        "  def drive(self):\n",
        "    print(\"The person drives the car\")"
      ],
      "execution_count": 5,
      "outputs": []
    },
    {
      "cell_type": "code",
      "metadata": {
        "id": "g8Or-9vO6vJz"
      },
      "source": [
        "c = car(4, 4, \"Disel\")"
      ],
      "execution_count": 6,
      "outputs": []
    },
    {
      "cell_type": "code",
      "metadata": {
        "colab": {
          "base_uri": "https://localhost:8080/"
        },
        "id": "oZ1wM1nX628Z",
        "outputId": "774c8c7c-35d6-462a-d2a0-2460b87d721c"
      },
      "source": [
        "print(c)"
      ],
      "execution_count": 7,
      "outputs": [
        {
          "output_type": "stream",
          "text": [
            "The object has been initialized\n"
          ],
          "name": "stdout"
        }
      ]
    },
    {
      "cell_type": "code",
      "metadata": {
        "colab": {
          "base_uri": "https://localhost:8080/"
        },
        "id": "znr184iS64PF",
        "outputId": "582939fa-3a2c-4eb2-e7a5-65313f3fe4a4"
      },
      "source": [
        "dir(c)"
      ],
      "execution_count": 8,
      "outputs": [
        {
          "output_type": "execute_result",
          "data": {
            "text/plain": [
              "['__class__',\n",
              " '__delattr__',\n",
              " '__dict__',\n",
              " '__dir__',\n",
              " '__doc__',\n",
              " '__eq__',\n",
              " '__format__',\n",
              " '__ge__',\n",
              " '__getattribute__',\n",
              " '__gt__',\n",
              " '__hash__',\n",
              " '__init__',\n",
              " '__init_subclass__',\n",
              " '__le__',\n",
              " '__lt__',\n",
              " '__module__',\n",
              " '__ne__',\n",
              " '__new__',\n",
              " '__reduce__',\n",
              " '__reduce_ex__',\n",
              " '__repr__',\n",
              " '__setattr__',\n",
              " '__sizeof__',\n",
              " '__str__',\n",
              " '__subclasshook__',\n",
              " '__weakref__',\n",
              " 'doors',\n",
              " 'drive',\n",
              " 'enginetype',\n",
              " 'windows']"
            ]
          },
          "metadata": {
            "tags": []
          },
          "execution_count": 8
        }
      ]
    },
    {
      "cell_type": "code",
      "metadata": {
        "colab": {
          "base_uri": "https://localhost:8080/"
        },
        "id": "kcNAw1WF8oCs",
        "outputId": "77d3347d-418d-4342-8a76-08c8a85a6d6f"
      },
      "source": [
        "# Lets try with some other magic method\n",
        "\n",
        "c.__sizeof__()"
      ],
      "execution_count": 9,
      "outputs": [
        {
          "output_type": "execute_result",
          "data": {
            "text/plain": [
              "32"
            ]
          },
          "metadata": {
            "tags": []
          },
          "execution_count": 9
        }
      ]
    },
    {
      "cell_type": "code",
      "metadata": {
        "id": "Y2G21OkD653j"
      },
      "source": [
        "# Lets overwrite again\n",
        "\n",
        "class car():\n",
        "  def __init__(self, windows, doors, enginetype):\n",
        "    self.windows = windows\n",
        "    self.doors = doors \n",
        "    self.enginetype = enginetype\n",
        "  def __str__(self):\n",
        "    return \"The object has been initialized\"\n",
        "  def __sizeof__(self):\n",
        "    return \"This displays size of the object\"\n",
        "  def drive(self):\n",
        "    print(\"The person drives the car\")"
      ],
      "execution_count": 10,
      "outputs": []
    },
    {
      "cell_type": "code",
      "metadata": {
        "id": "GjWNBGnk9DKr"
      },
      "source": [
        "c = car(4, 4, \"Disel\")"
      ],
      "execution_count": 12,
      "outputs": []
    },
    {
      "cell_type": "code",
      "metadata": {
        "colab": {
          "base_uri": "https://localhost:8080/"
        },
        "id": "OtbXSUJ_9Eku",
        "outputId": "fa173cdb-1fea-440e-a42a-57557e8b694b"
      },
      "source": [
        "print(c)"
      ],
      "execution_count": 13,
      "outputs": [
        {
          "output_type": "stream",
          "text": [
            "The object has been initialized\n"
          ],
          "name": "stdout"
        }
      ]
    },
    {
      "cell_type": "code",
      "metadata": {
        "colab": {
          "base_uri": "https://localhost:8080/",
          "height": 35
        },
        "id": "N_DgCDsN9Lqu",
        "outputId": "29f0c672-1626-4a53-f423-4ae3d2c0114e"
      },
      "source": [
        "c.__sizeof__()"
      ],
      "execution_count": 14,
      "outputs": [
        {
          "output_type": "execute_result",
          "data": {
            "application/vnd.google.colaboratory.intrinsic+json": {
              "type": "string"
            },
            "text/plain": [
              "'This displays size of the object'"
            ]
          },
          "metadata": {
            "tags": []
          },
          "execution_count": 14
        }
      ]
    },
    {
      "cell_type": "code",
      "metadata": {
        "id": "vn8iWPNG9fZY"
      },
      "source": [
        "# Lets overwrite again\n",
        "## This __new__ constructor gets initialized before the __init__\n",
        "\n",
        "class car():\n",
        "  def __new__(self, windows, doors, enginetype):\n",
        "    print(\"The object has started getting initialized\")\n",
        "  def __init__(self, windows, doors, enginetype):\n",
        "    self.windows = windows\n",
        "    self.doors = doors \n",
        "    self.enginetype = enginetype\n",
        "  def __str__(self):\n",
        "    return \"The object has been initialized\"\n",
        "  def __sizeof__(self):\n",
        "    return \"This displays size of the object\"\n",
        "  def drive(self):\n",
        "    print(\"The person drives the car\")"
      ],
      "execution_count": 15,
      "outputs": []
    },
    {
      "cell_type": "code",
      "metadata": {
        "colab": {
          "base_uri": "https://localhost:8080/"
        },
        "id": "4fT3KoDn95o5",
        "outputId": "d40f6746-77d8-450b-9f2b-11e481caa6ea"
      },
      "source": [
        "c = car(3, 2, \"Gas\")"
      ],
      "execution_count": 16,
      "outputs": [
        {
          "output_type": "stream",
          "text": [
            "The object has started getting initialized\n"
          ],
          "name": "stdout"
        }
      ]
    }
  ]
}