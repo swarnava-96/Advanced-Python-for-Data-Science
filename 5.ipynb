{
  "nbformat": 4,
  "nbformat_minor": 0,
  "metadata": {
    "colab": {
      "name": "5",
      "provenance": [],
      "authorship_tag": "ABX9TyPe7YLBlwNUpwPRCZTxQhyL",
      "include_colab_link": true
    },
    "kernelspec": {
      "name": "python3",
      "display_name": "Python 3"
    },
    "language_info": {
      "name": "python"
    }
  },
  "cells": [
    {
      "cell_type": "markdown",
      "metadata": {
        "id": "view-in-github",
        "colab_type": "text"
      },
      "source": [
        "<a href=\"https://colab.research.google.com/github/swarnava-96/Advanced-Python-for-Data-Science/blob/main/5.ipynb\" target=\"_parent\"><img src=\"https://colab.research.google.com/assets/colab-badge.svg\" alt=\"Open In Colab\"/></a>"
      ]
    },
    {
      "cell_type": "markdown",
      "metadata": {
        "id": "4t8UbY4d-8ca"
      },
      "source": [
        "# **Assert**\n",
        "Python provides the Assert statement to check if a given logical expression is True or False. Program execution proceeds only if the expresion is True and raises AssertionError when it is False.   "
      ]
    },
    {
      "cell_type": "code",
      "metadata": {
        "colab": {
          "base_uri": "https://localhost:8080/",
          "height": 197
        },
        "id": "HeZTgfJr_dti",
        "outputId": "0297b55c-406b-4510-be8c-2f204ea86117"
      },
      "source": [
        "# Lets create an AssertionError\n",
        "\n",
        "num = 10\n",
        "assert num > 10"
      ],
      "execution_count": 1,
      "outputs": [
        {
          "output_type": "error",
          "ename": "AssertionError",
          "evalue": "ignored",
          "traceback": [
            "\u001b[0;31m---------------------------------------------------------------------------\u001b[0m",
            "\u001b[0;31mAssertionError\u001b[0m                            Traceback (most recent call last)",
            "\u001b[0;32m<ipython-input-1-2f3e717e2386>\u001b[0m in \u001b[0;36m<module>\u001b[0;34m()\u001b[0m\n\u001b[1;32m      2\u001b[0m \u001b[0;34m\u001b[0m\u001b[0m\n\u001b[1;32m      3\u001b[0m \u001b[0mnum\u001b[0m \u001b[0;34m=\u001b[0m \u001b[0;36m10\u001b[0m\u001b[0;34m\u001b[0m\u001b[0;34m\u001b[0m\u001b[0m\n\u001b[0;32m----> 4\u001b[0;31m \u001b[0;32massert\u001b[0m \u001b[0mnum\u001b[0m \u001b[0;34m>\u001b[0m \u001b[0;36m10\u001b[0m\u001b[0;34m\u001b[0m\u001b[0;34m\u001b[0m\u001b[0m\n\u001b[0m",
            "\u001b[0;31mAssertionError\u001b[0m: "
          ]
        }
      ]
    },
    {
      "cell_type": "code",
      "metadata": {
        "colab": {
          "base_uri": "https://localhost:8080/"
        },
        "id": "DrFtuxJSAIiG",
        "outputId": "86963de8-bdbb-433f-b27f-498822af43a4"
      },
      "source": [
        "# lets handle this \n",
        "\n",
        "try:\n",
        "  num = int(input(\"Please enter an even number \"))\n",
        "  assert num%2 == 0\n",
        "  print(\"The number is even\")\n",
        "\n",
        "except AssertionError:\n",
        "  print(\"Please enter even number\")"
      ],
      "execution_count": 5,
      "outputs": [
        {
          "output_type": "stream",
          "text": [
            "Please enter an even number 11\n",
            "Please enter even number\n"
          ],
          "name": "stdout"
        }
      ]
    }
  ]
}