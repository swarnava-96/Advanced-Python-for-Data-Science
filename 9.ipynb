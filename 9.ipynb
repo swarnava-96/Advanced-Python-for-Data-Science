{
  "nbformat": 4,
  "nbformat_minor": 0,
  "metadata": {
    "colab": {
      "name": "9",
      "provenance": [],
      "authorship_tag": "ABX9TyOyiDMXAAye5/uqMts4wnEa",
      "include_colab_link": true
    },
    "kernelspec": {
      "name": "python3",
      "display_name": "Python 3"
    },
    "language_info": {
      "name": "python"
    }
  },
  "cells": [
    {
      "cell_type": "markdown",
      "metadata": {
        "id": "view-in-github",
        "colab_type": "text"
      },
      "source": [
        "<a href=\"https://colab.research.google.com/github/swarnava-96/Advanced-Python-for-Data-Science/blob/main/9.ipynb\" target=\"_parent\"><img src=\"https://colab.research.google.com/assets/colab-badge.svg\" alt=\"Open In Colab\"/></a>"
      ]
    },
    {
      "cell_type": "markdown",
      "metadata": {
        "id": "MLaPExUFNnFA"
      },
      "source": [
        "# **Class methods and Class variables**"
      ]
    },
    {
      "cell_type": "code",
      "metadata": {
        "id": "imc5d5cZNsBP"
      },
      "source": [
        "class car:\n",
        "  base_price = 100000 #Class varibales\n",
        "  def __init__(self, windows, doors, power):\n",
        "    self.windows = windows\n",
        "    self.doors = doors\n",
        "    self.power = power\n",
        "  def what_base_price(self):\n",
        "    print(\"The base price is {}\".format(self.base_price))"
      ],
      "execution_count": 1,
      "outputs": []
    },
    {
      "cell_type": "markdown",
      "metadata": {
        "id": "b9pnCP-UOtZc"
      },
      "source": [
        "Now, in order to access the \"base_price\" we have two ways.\n",
        "* creating an instance\n",
        "* directly accessing the base price"
      ]
    },
    {
      "cell_type": "code",
      "metadata": {
        "colab": {
          "base_uri": "https://localhost:8080/"
        },
        "id": "WrDVvjwEPAx0",
        "outputId": "9af91280-3ce0-44a7-d18b-8a10e010e322"
      },
      "source": [
        "# creating an instance\n",
        "\n",
        "car1 = car(4, 4, 2000)\n",
        "car1.base_price"
      ],
      "execution_count": 2,
      "outputs": [
        {
          "output_type": "execute_result",
          "data": {
            "text/plain": [
              "100000"
            ]
          },
          "metadata": {
            "tags": []
          },
          "execution_count": 2
        }
      ]
    },
    {
      "cell_type": "code",
      "metadata": {
        "colab": {
          "base_uri": "https://localhost:8080/"
        },
        "id": "Uf_QI4H5PNk6",
        "outputId": "75b8ff14-35e2-49c5-abb1-69a667f69134"
      },
      "source": [
        "# directly accessing the base_price\n",
        "\n",
        "car.base_price"
      ],
      "execution_count": 3,
      "outputs": [
        {
          "output_type": "execute_result",
          "data": {
            "text/plain": [
              "100000"
            ]
          },
          "metadata": {
            "tags": []
          },
          "execution_count": 3
        }
      ]
    },
    {
      "cell_type": "code",
      "metadata": {
        "id": "9DanzQjMPbmy"
      },
      "source": [
        "# Now lets add a class method. cls helps in referencing to the class.\n",
        "\n",
        "class car:\n",
        "  base_price = 100000 #Class varibales\n",
        "  def __init__(self, windows, doors, power):\n",
        "    self.windows = windows\n",
        "    self.doors = doors\n",
        "    self.power = power\n",
        "  def what_base_price(self):\n",
        "    print(\"The base price is {}\".format(self.base_price))\n",
        "  \n",
        "  @classmethod\n",
        "  def revise_base_price(cls, inflation):\n",
        "    cls.base_price = cls.base_price + cls.base_price * inflation\n"
      ],
      "execution_count": 4,
      "outputs": []
    },
    {
      "cell_type": "code",
      "metadata": {
        "id": "R-EiCLg5RbtM"
      },
      "source": [
        "car.revise_base_price(0.10)"
      ],
      "execution_count": 5,
      "outputs": []
    },
    {
      "cell_type": "code",
      "metadata": {
        "colab": {
          "base_uri": "https://localhost:8080/"
        },
        "id": "PExI04M4RiHX",
        "outputId": "07c9b03a-6ff8-4647-da18-e615fe1a43fc"
      },
      "source": [
        "car.base_price"
      ],
      "execution_count": 6,
      "outputs": [
        {
          "output_type": "execute_result",
          "data": {
            "text/plain": [
              "110000.0"
            ]
          },
          "metadata": {
            "tags": []
          },
          "execution_count": 6
        }
      ]
    }
  ]
}