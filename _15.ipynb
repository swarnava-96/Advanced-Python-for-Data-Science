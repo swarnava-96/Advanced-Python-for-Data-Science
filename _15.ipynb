{
  "nbformat": 4,
  "nbformat_minor": 0,
  "metadata": {
    "colab": {
      "name": "_15",
      "provenance": [],
      "authorship_tag": "ABX9TyPIYQ6vDaauX6E8GkppLT9N",
      "include_colab_link": true
    },
    "kernelspec": {
      "name": "python3",
      "display_name": "Python 3"
    },
    "language_info": {
      "name": "python"
    }
  },
  "cells": [
    {
      "cell_type": "markdown",
      "metadata": {
        "id": "view-in-github",
        "colab_type": "text"
      },
      "source": [
        "<a href=\"https://colab.research.google.com/github/swarnava-96/Advanced-Python-for-Data-Science/blob/main/_15.ipynb\" target=\"_parent\"><img src=\"https://colab.research.google.com/assets/colab-badge.svg\" alt=\"Open In Colab\"/></a>"
      ]
    },
    {
      "cell_type": "markdown",
      "metadata": {
        "id": "rCrLFH7p6Y0e"
      },
      "source": [
        "# **Public Private And Protected Access Modifiers**\n",
        "* Public --> can be accesed from everywhere\n",
        "* Protected --> can be accesed from a subclass or child class\n",
        "* private --> we cannot access it.\n",
        "\n",
        "NOTE: In python there is no restriction. We can modify anything we want. Its just a hint."
      ]
    },
    {
      "cell_type": "code",
      "metadata": {
        "id": "842-w8Vx6afL"
      },
      "source": [
        "# All the class variables are public\n",
        "\n",
        "class car():\n",
        "  def __init__(self, windows, doors, enginetype):\n",
        "    self.windows = windows\n",
        "    self.doors = doors\n",
        "    self.enginetype = enginetype"
      ],
      "execution_count": 20,
      "outputs": []
    },
    {
      "cell_type": "code",
      "metadata": {
        "id": "iT9BLBc7CZLj"
      },
      "source": [
        "# Lets create an object of for this class\n",
        "\n",
        "\n",
        "audi = car(4, 4, \"Disel\")"
      ],
      "execution_count": 9,
      "outputs": []
    },
    {
      "cell_type": "code",
      "metadata": {
        "colab": {
          "base_uri": "https://localhost:8080/"
        },
        "id": "MvHZjjxBCelw",
        "outputId": "519fa878-0335-42da-ec17-edb58e853b52"
      },
      "source": [
        "audi"
      ],
      "execution_count": 10,
      "outputs": [
        {
          "output_type": "execute_result",
          "data": {
            "text/plain": [
              "<__main__.car at 0x7fde1bd09c10>"
            ]
          },
          "metadata": {
            "tags": []
          },
          "execution_count": 10
        }
      ]
    },
    {
      "cell_type": "code",
      "metadata": {
        "colab": {
          "base_uri": "https://localhost:8080/"
        },
        "id": "9Rc4eWSYC8lJ",
        "outputId": "97a090aa-ec0e-49af-8f35-3e78177b997d"
      },
      "source": [
        "# Checking the attributes\n",
        "\n",
        "dir(audi)"
      ],
      "execution_count": 11,
      "outputs": [
        {
          "output_type": "execute_result",
          "data": {
            "text/plain": [
              "['__class__',\n",
              " '__delattr__',\n",
              " '__dict__',\n",
              " '__dir__',\n",
              " '__doc__',\n",
              " '__eq__',\n",
              " '__format__',\n",
              " '__ge__',\n",
              " '__getattribute__',\n",
              " '__gt__',\n",
              " '__hash__',\n",
              " '__init__',\n",
              " '__init_subclass__',\n",
              " '__le__',\n",
              " '__lt__',\n",
              " '__module__',\n",
              " '__ne__',\n",
              " '__new__',\n",
              " '__reduce__',\n",
              " '__reduce_ex__',\n",
              " '__repr__',\n",
              " '__setattr__',\n",
              " '__sizeof__',\n",
              " '__str__',\n",
              " '__subclasshook__',\n",
              " '__weakref__',\n",
              " 'doors',\n",
              " 'enginetype',\n",
              " 'windows']"
            ]
          },
          "metadata": {
            "tags": []
          },
          "execution_count": 11
        }
      ]
    },
    {
      "cell_type": "code",
      "metadata": {
        "colab": {
          "base_uri": "https://localhost:8080/"
        },
        "id": "C2QwVECFD9E2",
        "outputId": "a5dbe26d-c3ad-48c7-dac3-5f58c56d511d"
      },
      "source": [
        "# Attributes can be overwritten from anywhere\n",
        "\n",
        "print(audi.windows)\n",
        "\n",
        "#Lets overwrite\n",
        "audi.windows = 5\n",
        "\n",
        "print(audi.windows)"
      ],
      "execution_count": 13,
      "outputs": [
        {
          "output_type": "stream",
          "text": [
            "4\n",
            "5\n"
          ],
          "name": "stdout"
        }
      ]
    },
    {
      "cell_type": "code",
      "metadata": {
        "id": "-jRCfpLXCfMF"
      },
      "source": [
        "# All the class variables are protected\n",
        "\n",
        "class car():\n",
        "  def __init__(self, windows, doors, enginetype):\n",
        "    self._windows = windows\n",
        "    self._doors = doors\n",
        "    self._enginetype = enginetype"
      ],
      "execution_count": 24,
      "outputs": []
    },
    {
      "cell_type": "code",
      "metadata": {
        "id": "clqSA_WcDfdp"
      },
      "source": [
        "# Lets create an object of for this class\n",
        "\n",
        "audi = car(4, 4, \"Disel\")"
      ],
      "execution_count": 25,
      "outputs": []
    },
    {
      "cell_type": "code",
      "metadata": {
        "colab": {
          "base_uri": "https://localhost:8080/"
        },
        "id": "9py4lXMfDqlr",
        "outputId": "b5bbce6e-4cf1-40ff-8f02-4d3a25985f71"
      },
      "source": [
        "# Checking the attributes\n",
        "\n",
        "dir(audi)"
      ],
      "execution_count": 26,
      "outputs": [
        {
          "output_type": "execute_result",
          "data": {
            "text/plain": [
              "['__class__',\n",
              " '__delattr__',\n",
              " '__dict__',\n",
              " '__dir__',\n",
              " '__doc__',\n",
              " '__eq__',\n",
              " '__format__',\n",
              " '__ge__',\n",
              " '__getattribute__',\n",
              " '__gt__',\n",
              " '__hash__',\n",
              " '__init__',\n",
              " '__init_subclass__',\n",
              " '__le__',\n",
              " '__lt__',\n",
              " '__module__',\n",
              " '__ne__',\n",
              " '__new__',\n",
              " '__reduce__',\n",
              " '__reduce_ex__',\n",
              " '__repr__',\n",
              " '__setattr__',\n",
              " '__sizeof__',\n",
              " '__str__',\n",
              " '__subclasshook__',\n",
              " '__weakref__',\n",
              " '_doors',\n",
              " '_enginetype',\n",
              " '_windows']"
            ]
          },
          "metadata": {
            "tags": []
          },
          "execution_count": 26
        }
      ]
    },
    {
      "cell_type": "code",
      "metadata": {
        "id": "_0-TvLccDw1y"
      },
      "source": [
        "# lets create another class\n",
        "\n",
        "class Truck(car):\n",
        "  def __init__(self, windows, doors, enginetype, horsepower):\n",
        "    super().__init__(windows, doors, enginetype)\n",
        "    self.horsepower = horsepower"
      ],
      "execution_count": 27,
      "outputs": []
    },
    {
      "cell_type": "code",
      "metadata": {
        "id": "Ea6S4EggFT07"
      },
      "source": [
        "truck = Truck(2, 2, \"Disel\", 4000)"
      ],
      "execution_count": 28,
      "outputs": []
    },
    {
      "cell_type": "code",
      "metadata": {
        "colab": {
          "base_uri": "https://localhost:8080/"
        },
        "id": "hiCMyZE-Fei_",
        "outputId": "792aec2c-feda-4487-aab4-abb8d1ce5299"
      },
      "source": [
        "dir(truck)"
      ],
      "execution_count": 29,
      "outputs": [
        {
          "output_type": "execute_result",
          "data": {
            "text/plain": [
              "['__class__',\n",
              " '__delattr__',\n",
              " '__dict__',\n",
              " '__dir__',\n",
              " '__doc__',\n",
              " '__eq__',\n",
              " '__format__',\n",
              " '__ge__',\n",
              " '__getattribute__',\n",
              " '__gt__',\n",
              " '__hash__',\n",
              " '__init__',\n",
              " '__init_subclass__',\n",
              " '__le__',\n",
              " '__lt__',\n",
              " '__module__',\n",
              " '__ne__',\n",
              " '__new__',\n",
              " '__reduce__',\n",
              " '__reduce_ex__',\n",
              " '__repr__',\n",
              " '__setattr__',\n",
              " '__sizeof__',\n",
              " '__str__',\n",
              " '__subclasshook__',\n",
              " '__weakref__',\n",
              " '_doors',\n",
              " '_enginetype',\n",
              " '_windows',\n",
              " 'horsepower']"
            ]
          },
          "metadata": {
            "tags": []
          },
          "execution_count": 29
        }
      ]
    },
    {
      "cell_type": "code",
      "metadata": {
        "colab": {
          "base_uri": "https://localhost:8080/"
        },
        "id": "gNF83OrtF4ti",
        "outputId": "e0caca03-9bca-4eb7-f988-827cd24f10b3"
      },
      "source": [
        " # Since for protected can be accesed from a subclass or child class, lets try to overwrite it \n",
        "\n",
        " truck._doors = 5\n",
        " print(truck._doors)"
      ],
      "execution_count": 31,
      "outputs": [
        {
          "output_type": "stream",
          "text": [
            "5\n"
          ],
          "name": "stdout"
        }
      ]
    },
    {
      "cell_type": "code",
      "metadata": {
        "id": "PuMDd78nGiao"
      },
      "source": [
        "# All the class variables are Private\n",
        "\n",
        "class car():\n",
        "  def __init__(self, windows, doors, enginetype):\n",
        "    self.__windows = windows\n",
        "    self.__doors = doors\n",
        "    self.__enginetype = enginetype"
      ],
      "execution_count": 32,
      "outputs": []
    },
    {
      "cell_type": "code",
      "metadata": {
        "id": "8Ce_7gfnG_it"
      },
      "source": [
        "audi = car(4, 4, \"Disel\")"
      ],
      "execution_count": 33,
      "outputs": []
    },
    {
      "cell_type": "code",
      "metadata": {
        "colab": {
          "base_uri": "https://localhost:8080/"
        },
        "id": "A5nzT9pyHFgi",
        "outputId": "57cd9503-5935-4992-cf4f-a430c28369f4"
      },
      "source": [
        "dir(audi)"
      ],
      "execution_count": 34,
      "outputs": [
        {
          "output_type": "execute_result",
          "data": {
            "text/plain": [
              "['__class__',\n",
              " '__delattr__',\n",
              " '__dict__',\n",
              " '__dir__',\n",
              " '__doc__',\n",
              " '__eq__',\n",
              " '__format__',\n",
              " '__ge__',\n",
              " '__getattribute__',\n",
              " '__gt__',\n",
              " '__hash__',\n",
              " '__init__',\n",
              " '__init_subclass__',\n",
              " '__le__',\n",
              " '__lt__',\n",
              " '__module__',\n",
              " '__ne__',\n",
              " '__new__',\n",
              " '__reduce__',\n",
              " '__reduce_ex__',\n",
              " '__repr__',\n",
              " '__setattr__',\n",
              " '__sizeof__',\n",
              " '__str__',\n",
              " '__subclasshook__',\n",
              " '__weakref__',\n",
              " '_car__doors',\n",
              " '_car__enginetype',\n",
              " '_car__windows']"
            ]
          },
          "metadata": {
            "tags": []
          },
          "execution_count": 34
        }
      ]
    }
  ]
}