{
  "nbformat": 4,
  "nbformat_minor": 0,
  "metadata": {
    "colab": {
      "name": "_11",
      "provenance": [],
      "authorship_tag": "ABX9TyOdjK1iW/p/aGLMFHlFviUR",
      "include_colab_link": true
    },
    "kernelspec": {
      "name": "python3",
      "display_name": "Python 3"
    },
    "language_info": {
      "name": "python"
    }
  },
  "cells": [
    {
      "cell_type": "markdown",
      "metadata": {
        "id": "view-in-github",
        "colab_type": "text"
      },
      "source": [
        "<a href=\"https://colab.research.google.com/github/swarnava-96/Advanced-Python-for-Data-Science/blob/main/_11.ipynb\" target=\"_parent\"><img src=\"https://colab.research.google.com/assets/colab-badge.svg\" alt=\"Open In Colab\"/></a>"
      ]
    },
    {
      "cell_type": "markdown",
      "metadata": {
        "id": "rVG9JEB9gPAV"
      },
      "source": [
        "# **Multiple inheritence**\n",
        "One class will be inheriting from two different base classes."
      ]
    },
    {
      "cell_type": "code",
      "metadata": {
        "id": "TdbTl9V_gTKW"
      },
      "source": [
        "# Lets define a class A\n",
        "\n",
        "class A:\n",
        "  def method1(self):\n",
        "    print(\"A class method is called\")"
      ],
      "execution_count": 1,
      "outputs": []
    },
    {
      "cell_type": "code",
      "metadata": {
        "id": "Ghg_BSE7kXgW"
      },
      "source": [
        "# Here class B is inheriting from class A\n",
        "\n",
        "class B(A):\n",
        "  def method1(self):\n",
        "    print(\"B class method is called\")\n",
        "\n",
        "  def method2(self):\n",
        "    print(\"B class method2 is called\")"
      ],
      "execution_count": 9,
      "outputs": []
    },
    {
      "cell_type": "code",
      "metadata": {
        "id": "kbq93KcOkiGv"
      },
      "source": [
        "# Here class C is inheriting from class A\n",
        "\n",
        "class C(A):\n",
        "  def method1(self):\n",
        "    print(\"C class method is called\")"
      ],
      "execution_count": 10,
      "outputs": []
    },
    {
      "cell_type": "code",
      "metadata": {
        "id": "FvSzoRjYlfRN"
      },
      "source": [
        "# Multiple inheritence--> \n",
        "\n",
        "class D(B,C):\n",
        "  def method1(self):\n",
        "    print(\"D class method is called\")"
      ],
      "execution_count": 11,
      "outputs": []
    },
    {
      "cell_type": "code",
      "metadata": {
        "colab": {
          "base_uri": "https://localhost:8080/"
        },
        "id": "AYKEFf1_l15F",
        "outputId": "5793b12c-1b1f-4a1d-d39a-1b0e6d11d48e"
      },
      "source": [
        "# Lets create an object for class D\n",
        "\n",
        "d = D()\n",
        "print(d.method1())\n",
        "print(d.method2())"
      ],
      "execution_count": 15,
      "outputs": [
        {
          "output_type": "stream",
          "text": [
            "D class method is called\n",
            "None\n",
            "B class method2 is called\n",
            "None\n"
          ],
          "name": "stdout"
        }
      ]
    },
    {
      "cell_type": "code",
      "metadata": {
        "colab": {
          "base_uri": "https://localhost:8080/"
        },
        "id": "GB64LuPimZ01",
        "outputId": "0af0399e-7134-4e3d-cdd2-3020619f71cb"
      },
      "source": [
        "# Calling a parent method1 class\n",
        "\n",
        "A.method1(d)"
      ],
      "execution_count": 16,
      "outputs": [
        {
          "output_type": "stream",
          "text": [
            "A class method is called\n"
          ],
          "name": "stdout"
        }
      ]
    },
    {
      "cell_type": "code",
      "metadata": {
        "id": "rsaGqxAYnPL7"
      },
      "source": [
        "# Calling all the classses at once\n",
        "\n",
        "class D:\n",
        "  def method1(self):\n",
        "    print(\"D class method is called\")\n",
        "    C.method1(self)\n",
        "    B.method1(self)\n",
        "    A.method1(self)"
      ],
      "execution_count": 17,
      "outputs": []
    },
    {
      "cell_type": "code",
      "metadata": {
        "colab": {
          "base_uri": "https://localhost:8080/"
        },
        "id": "Y-HRqYgPn3H3",
        "outputId": "7f8235b5-107a-49be-895d-08e21f013e54"
      },
      "source": [
        "# Lets create an object for class D\n",
        "\n",
        "d = D()\n",
        "print(d.method1())"
      ],
      "execution_count": 18,
      "outputs": [
        {
          "output_type": "stream",
          "text": [
            "D class method is called\n",
            "C class method is called\n",
            "B class method is called\n",
            "A class method is called\n",
            "None\n"
          ],
          "name": "stdout"
        }
      ]
    }
  ]
}